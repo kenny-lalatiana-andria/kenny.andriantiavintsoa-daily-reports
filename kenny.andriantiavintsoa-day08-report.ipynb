{
 "cells": [
  {
   "cell_type": "markdown",
   "id": "f1174534-e662-4531-908c-e1faa9b57e12",
   "metadata": {},
   "source": [
    "<center><b>AFRICAN INSTITUTE FOR MATHEMATICAL SCIENCES</b><br><br>\n",
    "(AIMS RWANDA, KIGALI)</b></center>\n"
   ]
  },
  {
   "cell_type": "markdown",
   "id": "5cda8b08-26fe-4d84-9e9b-ef9fd6574d3d",
   "metadata": {},
   "source": [
    "---\n",
    "---\n",
    "Name : Kenny Lalatiana ANDRIANTIAVINTSOA <br>\n",
    "Course : Python Programming <br>\n",
    "Report number : 8 <br>\n",
    "Date : October 2, 2025\n",
    "\n",
    "---\n",
    "---\n"
   ]
  },
  {
   "cell_type": "markdown",
   "id": "f92b8a78-c45b-4078-9919-dbeb532ddb1e",
   "metadata": {},
   "source": [
    "# Recursive function"
   ]
  },
  {
   "cell_type": "code",
   "execution_count": 1,
   "id": "1ce74c91-0129-40d8-97cc-a7c3e6c36460",
   "metadata": {},
   "outputs": [],
   "source": [
    "def fact(n):\n",
    "    if n<= 0: # base case\n",
    "        return 1\n",
    "    return n*fact(n-1) #recursive step "
   ]
  },
  {
   "cell_type": "code",
   "execution_count": 2,
   "id": "989cf376-25da-4313-b75a-90c91b8813e2",
   "metadata": {},
   "outputs": [
    {
     "data": {
      "text/plain": [
       "120"
      ]
     },
     "execution_count": 2,
     "metadata": {},
     "output_type": "execute_result"
    }
   ],
   "source": [
    "fact(5)"
   ]
  },
  {
   "cell_type": "markdown",
   "id": "c6767f0a-97dc-4bca-b966-b0ac123293ca",
   "metadata": {},
   "source": [
    "### Fibonacci sequence"
   ]
  },
  {
   "cell_type": "code",
   "execution_count": 3,
   "id": "bf4b1752-b92f-4187-af22-ecece862ba80",
   "metadata": {},
   "outputs": [],
   "source": [
    "def fibonacci(n):\n",
    "    if n<=1:\n",
    "        return 1\n",
    "    return fibonacci(n-1)+fibonacci(n-2)"
   ]
  },
  {
   "cell_type": "code",
   "execution_count": 4,
   "id": "420a0360-0644-42f4-a369-a891e37b04a8",
   "metadata": {},
   "outputs": [
    {
     "data": {
      "text/plain": [
       "[1, 1, 2, 3, 5, 8, 13, 21, 34, 55]"
      ]
     },
     "execution_count": 4,
     "metadata": {},
     "output_type": "execute_result"
    }
   ],
   "source": [
    "fibo =[]\n",
    "for i in range(10):\n",
    "    fibo.append(fibonacci(i))\n",
    "fibo"
   ]
  },
  {
   "cell_type": "code",
   "execution_count": 5,
   "id": "1388c84c-e88a-4014-ac10-ee3c576bf02d",
   "metadata": {},
   "outputs": [],
   "source": [
    "def power(x,n):\n",
    "    \"\"\"\n",
    "    This  function calculate a given x to the power n.\n",
    "    Input : A float number x and an integer n.\n",
    "    Output : The value of x to the power n\n",
    "    \"\"\"\n",
    "    if n == 0:\n",
    "        return 1\n",
    "    return x*power(x,n-1)"
   ]
  },
  {
   "cell_type": "markdown",
   "id": "aeef599f-2085-4eee-b5a8-9c4fbc3b6aae",
   "metadata": {},
   "source": [
    "# Lambda function:"
   ]
  },
  {
   "cell_type": "code",
   "execution_count": 7,
   "id": "182bd3d1-dce7-4793-a5ca-a5980d5d4655",
   "metadata": {},
   "outputs": [
    {
     "name": "stdout",
     "output_type": "stream",
     "text": [
      "8\n"
     ]
    }
   ],
   "source": [
    "double = lambda x:x*2\n",
    "print(double(4))"
   ]
  },
  {
   "cell_type": "code",
   "execution_count": 9,
   "id": "1b073cd6-f64a-489e-a1bb-e4d56a2680ec",
   "metadata": {},
   "outputs": [
    {
     "name": "stdout",
     "output_type": "stream",
     "text": [
      "16\n",
      "8\n"
     ]
    }
   ],
   "source": [
    "def power(n):\n",
    "    return lambda x:x**n # return a function , same as taking x in parameter power(x,n)\n",
    "\n",
    "square = power(2) #function x^2\n",
    "cube = power(3) #function x^3\n",
    "print(square(4))\n",
    "print(cube(2))"
   ]
  },
  {
   "cell_type": "code",
   "execution_count": null,
   "id": "bb9477a8-7bcf-412c-8e6c-6de76aef2dd8",
   "metadata": {},
   "outputs": [],
   "source": []
  }
 ],
 "metadata": {
  "kernelspec": {
   "display_name": "Python 3 (ipykernel)",
   "language": "python",
   "name": "python3"
  },
  "language_info": {
   "codemirror_mode": {
    "name": "ipython",
    "version": 3
   },
   "file_extension": ".py",
   "mimetype": "text/x-python",
   "name": "python",
   "nbconvert_exporter": "python",
   "pygments_lexer": "ipython3",
   "version": "3.13.7"
  }
 },
 "nbformat": 4,
 "nbformat_minor": 5
}
