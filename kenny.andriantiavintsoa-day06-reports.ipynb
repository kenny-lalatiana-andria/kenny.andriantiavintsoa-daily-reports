{
 "cells": [
  {
   "cell_type": "markdown",
   "id": "d62b251f-3a1f-477d-a925-552e055902bd",
   "metadata": {},
   "source": [
    "<center><b>AFRICAN INSTITUTE FOR MATHEMATICAL SCIENCES</b><br><br>\n",
    "(AIMS RWANDA, KIGALI)</b></center>"
   ]
  },
  {
   "cell_type": "markdown",
   "id": "0c47eb6d-a577-4c0c-9fba-d29d6ecbfa7d",
   "metadata": {},
   "source": [
    "---\n",
    "---\n",
    "Name : Kenny Lalatiana ANDRIANTIAVINTSOA <br>\n",
    "Course : Python Programming <br>\n",
    "Report number : 6 <br>\n",
    "Date : September 30, 2025\n",
    "\n",
    "---\n",
    "---"
   ]
  },
  {
   "cell_type": "markdown",
   "id": "9b10c2d6-85e8-4cf0-a775-027295656f0d",
   "metadata": {},
   "source": [
    "* if clause"
   ]
  },
  {
   "cell_type": "code",
   "execution_count": 2,
   "id": "27f7163b-a80a-44a9-af7d-39557c80d324",
   "metadata": {},
   "outputs": [
    {
     "name": "stdout",
     "output_type": "stream",
     "text": [
      "45 is an integer\n"
     ]
    }
   ],
   "source": [
    "int_val = 45\n",
    "if (type(int_val)==int):\n",
    "    print(f'{int_val} is an integer')\n",
    "else :\n",
    "    print(f\"{int_val} is not an integer\")"
   ]
  },
  {
   "cell_type": "markdown",
   "id": "6aeeeda3-0441-471d-bfc7-2ea716a1ad11",
   "metadata": {},
   "source": [
    "## Finding the real solutions of a quadratic equation"
   ]
  },
  {
   "cell_type": "code",
   "execution_count": 8,
   "id": "77fd382f-f615-45b6-93e4-369c681c77aa",
   "metadata": {},
   "outputs": [
    {
     "name": "stdin",
     "output_type": "stream",
     "text": [
      "Enter the value of a, different than 0:  1\n",
      "Enter the value of b:  -3\n",
      "Enter the value of c:  2\n"
     ]
    },
    {
     "name": "stdout",
     "output_type": "stream",
     "text": [
      "The solutions are : x1 = 2.0, x2 = 1.0\n"
     ]
    }
   ],
   "source": [
    "while True : \n",
    "    a = float(input(\"Enter the value of a, different than 0: \"))\n",
    "    if (a!=0):\n",
    "        break\n",
    "b = float(input(\"Enter the value of b: \"))\n",
    "c = float(input(\"Enter the value of c: \"))\n",
    "\n",
    "delta = (b**2)-(4*a*c)\n",
    "sqrt_delta = delta**0.5\n",
    "if (delta==0):\n",
    "    x = round(-b/(2*a),2)\n",
    "    print(f'The solution is a double root : {x}')\n",
    "elif (delta>0):\n",
    "    x1= round((-b + sqrt_delta)/(2*a),2)\n",
    "    x2= round((-b - sqrt_delta)/(2*a),2)\n",
    "    print(f\"The solutions are : x1 = {x1}, x2 = {x2}\")\n",
    "else :\n",
    "    print(f\"The equation have no real solutions\")"
   ]
  },
  {
   "cell_type": "code",
   "execution_count": 12,
   "id": "45b64693-11a4-49e6-8d7f-c5dcac148ea0",
   "metadata": {},
   "outputs": [
    {
     "name": "stdin",
     "output_type": "stream",
     "text": [
      "Enter your password :  ffief\n"
     ]
    },
    {
     "name": "stdout",
     "output_type": "stream",
     "text": [
      "Wrong password, try again\n"
     ]
    },
    {
     "name": "stdin",
     "output_type": "stream",
     "text": [
      "Enter your password :  qsdfGHjklm\n"
     ]
    },
    {
     "name": "stdout",
     "output_type": "stream",
     "text": [
      "Welcome to your accout\n"
     ]
    }
   ],
   "source": [
    "# Asking for user to enter his password; if it is wrong 3 times in a row, then the account is blocked\n",
    "n = 0\n",
    "password = \"qsdfGHjklm\"\n",
    "while n < 3:\n",
    "    key = input(\"Enter your password : \")\n",
    "    n += 1\n",
    "    if (key==password):\n",
    "        print(\"Welcome to your accout\")\n",
    "        break\n",
    "    else:\n",
    "        if (n !=3):\n",
    "            print(\"Wrong password, try again\")\n",
    "        else :\n",
    "            print (\"For security purpose, you're account has been blocked\")\n",
    "        "
   ]
  },
  {
   "cell_type": "code",
   "execution_count": 2,
   "id": "6441b456-7750-48ab-b1e7-e4cec88e253d",
   "metadata": {},
   "outputs": [
    {
     "name": "stdout",
     "output_type": "stream",
     "text": [
      "The letter H is a consonant\n",
      "The letter e is a vowel\n",
      "The letter l is a consonant\n",
      "The letter l is a consonant\n",
      "The letter o is a vowel\n",
      "The letter , is a ponctuation\n",
      "This is likely a blank space\n",
      "The letter W is a consonant\n",
      "The letter o is a vowel\n",
      "The letter r is a consonant\n",
      "The letter l is a consonant\n",
      "The letter d is a consonant\n",
      "The letter . is a ponctuation\n",
      "This is likely a blank space\n",
      "3 is a numeric\n",
      "This is likely a blank space\n",
      "{ is a special character\n",
      "} is a special character\n",
      "This is likely a blank space\n",
      "# is a special character\n"
     ]
    }
   ],
   "source": [
    "sentence = \"Hello, World. 3 {} #\"\n",
    "for letter in sentence : \n",
    "    if letter.lower() in \"aeuio\":\n",
    "        print(f\"The letter {letter} is a vowel\")\n",
    "    elif letter.isalpha() :\n",
    "        print(f\"The letter {letter} is a consonant\")\n",
    "    elif letter in \".,;:!?\":\n",
    "        print(f\"The letter {letter} is a ponctuation\")\n",
    "    elif letter.isspace():\n",
    "        print(\"This is likely a blank space\")\n",
    "    elif letter.isdigit():\n",
    "        print(f\"{letter} is a numeric\")\n",
    "    else :\n",
    "        print(f\"{letter} is a special character\")\n",
    "        "
   ]
  },
  {
   "cell_type": "code",
   "execution_count": null,
   "id": "59c46e36-465f-4e28-b20c-c21106796fdc",
   "metadata": {},
   "outputs": [],
   "source": []
  }
 ],
 "metadata": {
  "kernelspec": {
   "display_name": "Python 3 (ipykernel)",
   "language": "python",
   "name": "python3"
  },
  "language_info": {
   "codemirror_mode": {
    "name": "ipython",
    "version": 3
   },
   "file_extension": ".py",
   "mimetype": "text/x-python",
   "name": "python",
   "nbconvert_exporter": "python",
   "pygments_lexer": "ipython3",
   "version": "3.13.7"
  }
 },
 "nbformat": 4,
 "nbformat_minor": 5
}
