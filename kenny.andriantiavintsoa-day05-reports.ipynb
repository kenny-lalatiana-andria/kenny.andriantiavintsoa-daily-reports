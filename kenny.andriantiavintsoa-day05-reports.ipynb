{
 "cells": [
  {
   "cell_type": "markdown",
   "id": "56b803cc-4a39-438e-98cf-55e7f2fcfb4d",
   "metadata": {},
   "source": [
    "<center><b>AFRICAN INSTITUTE FOR MATHEMATICAL SCIENCES</b><br><br>\n",
    "(AIMS RWANDA, KIGALI)</b></center>\n"
   ]
  },
  {
   "cell_type": "markdown",
   "id": "fcecbed8-d75f-49ff-a275-484cc87661d6",
   "metadata": {},
   "source": [
    "---\n",
    "---\n",
    "Name : Kenny Lalatiana ANDRIANTIAVINTSOA <br>\n",
    "Course : Python Programming <br>\n",
    "report number : 5 <br>\n",
    "Date : September 29, 2025\n",
    "\n",
    "---\n",
    "---"
   ]
  },
  {
   "cell_type": "markdown",
   "id": "69a09a04-54ef-4c5d-973c-ae7c7aaa202b",
   "metadata": {},
   "source": [
    "## List"
   ]
  },
  {
   "cell_type": "code",
   "execution_count": 1,
   "id": "2577a485-0ca2-4e32-bd8b-a6978c5139a3",
   "metadata": {},
   "outputs": [],
   "source": [
    "first_list = [\"Kenny\",27,98,True,5.8] # a list can contain any type of variable"
   ]
  },
  {
   "cell_type": "code",
   "execution_count": 2,
   "id": "a4dd134f-ad29-43e5-bed3-c8cac1845fb0",
   "metadata": {},
   "outputs": [
    {
     "name": "stdout",
     "output_type": "stream",
     "text": [
      "['Kenny', 27, 7, True, 5.8]\n"
     ]
    }
   ],
   "source": [
    "# trying to change a value in a list, as it is muable object, let's change the third element:\n",
    "first_list[2]=7\n",
    "print(first_list)"
   ]
  },
  {
   "cell_type": "markdown",
   "id": "32eb62cc-f58f-4a59-b265-feef3efb3dd2",
   "metadata": {},
   "source": [
    "### Methods "
   ]
  },
  {
   "cell_type": "code",
   "execution_count": 3,
   "id": "a03d3d17-789a-4993-853b-1c898a7f363f",
   "metadata": {},
   "outputs": [
    {
     "name": "stdout",
     "output_type": "stream",
     "text": [
      "[1, 2, 3, 4, 5, 6, 7, 8, 9, 10, 11, 12, 13, 14, 15, 16, 17, 18, 19, 20, 21, 22, 23, 24]\n"
     ]
    }
   ],
   "source": [
    "num_list = list(range(1,25))\n",
    "print(num_list) # we can see that range is exclusive for the end : [1,25["
   ]
  },
  {
   "cell_type": "code",
   "execution_count": 4,
   "id": "667b15ae-8f89-410b-9bb9-350f3625386b",
   "metadata": {},
   "outputs": [
    {
     "data": {
      "text/plain": [
       "300"
      ]
     },
     "execution_count": 4,
     "metadata": {},
     "output_type": "execute_result"
    }
   ],
   "source": [
    "sum_num_list = sum(num_list)\n",
    "sum_num_list"
   ]
  },
  {
   "cell_type": "code",
   "execution_count": 5,
   "id": "2b921385-4853-4795-9d73-f96a139a7336",
   "metadata": {},
   "outputs": [
    {
     "name": "stdout",
     "output_type": "stream",
     "text": [
      "[1.25687469555, 2, 6.7, 8.2, 9, 21, 55, 63]\n"
     ]
    }
   ],
   "source": [
    "# sort\n",
    "list1= [2,9,6.7,63,8.2,55,1.25687469555,21]\n",
    "list1.sort() #works with numerical,n whatever the content is float or list\n",
    "print(list1)"
   ]
  },
  {
   "cell_type": "code",
   "execution_count": 6,
   "id": "6133e8b8-2692-4c88-85b8-54a9c3915b76",
   "metadata": {},
   "outputs": [
    {
     "data": {
      "text/plain": [
       "['!**',\n",
       " '#',\n",
       " '#ZazaVavy',\n",
       " 'A',\n",
       " 'Analakely',\n",
       " 'Andria',\n",
       " 'Baby',\n",
       " 'PYTHON',\n",
       " 'a',\n",
       " 'analakely',\n",
       " 'b',\n",
       " 'baba',\n",
       " 'kara']"
      ]
     },
     "execution_count": 6,
     "metadata": {},
     "output_type": "execute_result"
    }
   ],
   "source": [
    "list2=[\"a\",\"b\",\"baba\",\"kara\",\"A\", \"Analakely\", \"analakely\",\"Andria\", \"Baby\", \"PYTHON\",\"#\",\"!**\",\"#ZazaVavy\"] \n",
    "list2.sort() # sort method also works on characters, it check the order of the first character of the element according to code ASCII\n",
    "list2"
   ]
  },
  {
   "cell_type": "code",
   "execution_count": 7,
   "id": "2fef151d-47c4-41d1-8e8a-0713e42f0014",
   "metadata": {},
   "outputs": [
    {
     "data": {
      "text/plain": [
       "[False, False, True, True, True]"
      ]
     },
     "execution_count": 7,
     "metadata": {},
     "output_type": "execute_result"
    }
   ],
   "source": [
    "list3 = [True,False,True,True,False]\n",
    "list3.sort() # works also on list of boolen, and False<True\n",
    "list3"
   ]
  },
  {
   "cell_type": "code",
   "execution_count": 8,
   "id": "b5ee7fcd-f445-4c9f-829b-ac648d086220",
   "metadata": {},
   "outputs": [
    {
     "data": {
      "text/plain": [
       "[[1, 1, 1, 1, 1, 1], [1.2, 1000, 87], [2, 3, 5], [9, 10, 11], [78, 3, 40]]"
      ]
     },
     "execution_count": 8,
     "metadata": {},
     "output_type": "execute_result"
    }
   ],
   "source": [
    "list4 = [[9,10,11],[2,3,5],[78,3,40],[1.2,1000,87],[1,1,1,1,1,1]]\n",
    "list4.sort() #works also for a 2 dimensional list and compare the first value of each sub list \n",
    "list4"
   ]
  },
  {
   "cell_type": "code",
   "execution_count": 9,
   "id": "ca84d886-04c4-4068-8a7f-42f42943d6be",
   "metadata": {},
   "outputs": [
    {
     "data": {
      "text/plain": [
       "[3, 40, 78]"
      ]
     },
     "execution_count": 9,
     "metadata": {},
     "output_type": "execute_result"
    }
   ],
   "source": [
    "list4[-1].sort()\n",
    "list4[-1]"
   ]
  },
  {
   "cell_type": "code",
   "execution_count": 10,
   "id": "f66a1083-bb03-4d98-b2b1-c93cd096e589",
   "metadata": {},
   "outputs": [
    {
     "name": "stdout",
     "output_type": "stream",
     "text": [
      "[[1, 1, 1, 1, 1, 1], [1.2, 1000, 87], [2, 3, 5], [9, 10, 11], [3, 40, 78]]\n"
     ]
    }
   ],
   "source": [
    "print(list4)"
   ]
  },
  {
   "cell_type": "code",
   "execution_count": 11,
   "id": "03b73b40-7dd8-4f40-ac7a-32c5ace77cca",
   "metadata": {},
   "outputs": [
    {
     "data": {
      "text/plain": [
       "5"
      ]
     },
     "execution_count": 11,
     "metadata": {},
     "output_type": "execute_result"
    }
   ],
   "source": [
    "len(list4)"
   ]
  },
  {
   "cell_type": "code",
   "execution_count": 12,
   "id": "44ff876e-ee93-4608-b73f-5589d96d6fdb",
   "metadata": {},
   "outputs": [
    {
     "data": {
      "text/plain": [
       "[[1, 1, 1, 1, 1, 1], [1.2, 87, 1000], [2, 3, 5], [3, 40, 78], [9, 10, 11]]"
      ]
     },
     "execution_count": 12,
     "metadata": {},
     "output_type": "execute_result"
    }
   ],
   "source": [
    "for i in range(len(list4)):\n",
    "    list4[i].sort()\n",
    "    list4.sort()\n",
    "list4"
   ]
  },
  {
   "cell_type": "code",
   "execution_count": 13,
   "id": "0894c3b3-3b44-46a2-a815-af3ab722d25b",
   "metadata": {},
   "outputs": [
    {
     "name": "stdout",
     "output_type": "stream",
     "text": [
      "['Kenny', 27, 7, True, 5.8, [2, 3, 4]]\n",
      "['Kenny', 27, 7, True, 5.8, [2, 3, 4], 2, 3, 4]\n"
     ]
    }
   ],
   "source": [
    "# append and extend : \n",
    "first_list.append([2,3,4]) # append take the argument as only one object\n",
    "print(first_list)\n",
    "first_list.extend([2,3,4]) # extend take argument a list ant it add it as many objets\n",
    "print(first_list)"
   ]
  },
  {
   "cell_type": "code",
   "execution_count": 14,
   "id": "d81fabe9-3351-4fa9-b69d-c449bfc1aa09",
   "metadata": {},
   "outputs": [
    {
     "ename": "TypeError",
     "evalue": "'int' object is not iterable",
     "output_type": "error",
     "traceback": [
      "\u001b[31m---------------------------------------------------------------------------\u001b[39m",
      "\u001b[31mTypeError\u001b[39m                                 Traceback (most recent call last)",
      "\u001b[36mCell\u001b[39m\u001b[36m \u001b[39m\u001b[32mIn[14]\u001b[39m\u001b[32m, line 1\u001b[39m\n\u001b[32m----> \u001b[39m\u001b[32m1\u001b[39m \u001b[43mfirst_list\u001b[49m\u001b[43m.\u001b[49m\u001b[43mextend\u001b[49m\u001b[43m(\u001b[49m\u001b[32;43m66\u001b[39;49m\u001b[43m)\u001b[49m \u001b[38;5;66;03m# there is error caus extend take only iterable object as argument\u001b[39;00m\n\u001b[32m      2\u001b[39m first_list\n",
      "\u001b[31mTypeError\u001b[39m: 'int' object is not iterable"
     ]
    }
   ],
   "source": [
    "first_list.extend(66) # there is error caus extend take only iterable object as argument\n",
    "first_list"
   ]
  },
  {
   "cell_type": "code",
   "execution_count": 15,
   "id": "44c762bc-8549-435a-8dff-e60389e5f819",
   "metadata": {},
   "outputs": [
    {
     "data": {
      "text/plain": [
       "['__add__',\n",
       " '__class__',\n",
       " '__class_getitem__',\n",
       " '__contains__',\n",
       " '__delattr__',\n",
       " '__delitem__',\n",
       " '__dir__',\n",
       " '__doc__',\n",
       " '__eq__',\n",
       " '__format__',\n",
       " '__ge__',\n",
       " '__getattribute__',\n",
       " '__getitem__',\n",
       " '__getstate__',\n",
       " '__gt__',\n",
       " '__hash__',\n",
       " '__iadd__',\n",
       " '__imul__',\n",
       " '__init__',\n",
       " '__init_subclass__',\n",
       " '__iter__',\n",
       " '__le__',\n",
       " '__len__',\n",
       " '__lt__',\n",
       " '__mul__',\n",
       " '__ne__',\n",
       " '__new__',\n",
       " '__reduce__',\n",
       " '__reduce_ex__',\n",
       " '__repr__',\n",
       " '__reversed__',\n",
       " '__rmul__',\n",
       " '__setattr__',\n",
       " '__setitem__',\n",
       " '__sizeof__',\n",
       " '__str__',\n",
       " '__subclasshook__',\n",
       " 'append',\n",
       " 'clear',\n",
       " 'copy',\n",
       " 'count',\n",
       " 'extend',\n",
       " 'index',\n",
       " 'insert',\n",
       " 'pop',\n",
       " 'remove',\n",
       " 'reverse',\n",
       " 'sort']"
      ]
     },
     "execution_count": 15,
     "metadata": {},
     "output_type": "execute_result"
    }
   ],
   "source": [
    "dir(list)"
   ]
  },
  {
   "cell_type": "code",
   "execution_count": 16,
   "id": "04b96480-d664-41d0-8275-360b891f76b8",
   "metadata": {},
   "outputs": [
    {
     "data": {
      "text/plain": [
       "[1.25687469555, 2, 6.7, 8.2, 9, 21, 55, 63]"
      ]
     },
     "execution_count": 16,
     "metadata": {},
     "output_type": "execute_result"
    }
   ],
   "source": [
    "copy_list1 = list1.copy()\n",
    "copy_list1"
   ]
  },
  {
   "cell_type": "code",
   "execution_count": 17,
   "id": "dae5c1f4-1060-4598-a597-61cf094d71ef",
   "metadata": {},
   "outputs": [
    {
     "name": "stdout",
     "output_type": "stream",
     "text": [
      "[[1, 1, 1, 1, 1, 1], [1.2, 87, 1000], [2, 3, 5], [3, 40, 78], [9, 10, 11]]\n",
      "6\n",
      "0\n"
     ]
    }
   ],
   "source": [
    "print(list4)\n",
    "print(list4[0].count(1))# the method count, count the number of occurence of the element put in argument\n",
    "print(list4.count([1])) # cause list4 contains list that contains 1 but it not contains 1 itself"
   ]
  },
  {
   "cell_type": "code",
   "execution_count": 18,
   "id": "1d8af2d7-3998-4593-8ae6-d18855edcbb4",
   "metadata": {},
   "outputs": [
    {
     "name": "stdout",
     "output_type": "stream",
     "text": [
      "['!**', '#', '#ZazaVavy', 'A', 'Analakely', 'Andria', 'Baby', 'PYTHON', 'a', 'analakely', 'b', 'baba', 'kara']\n",
      "7\n"
     ]
    },
    {
     "ename": "ValueError",
     "evalue": "7 is not in list",
     "output_type": "error",
     "traceback": [
      "\u001b[31m---------------------------------------------------------------------------\u001b[39m",
      "\u001b[31mValueError\u001b[39m                                Traceback (most recent call last)",
      "\u001b[36mCell\u001b[39m\u001b[36m \u001b[39m\u001b[32mIn[18]\u001b[39m\u001b[32m, line 3\u001b[39m\n\u001b[32m      1\u001b[39m \u001b[38;5;28mprint\u001b[39m(list2)\n\u001b[32m      2\u001b[39m \u001b[38;5;28mprint\u001b[39m(list2.index(\u001b[33m\"\u001b[39m\u001b[33mPYTHON\u001b[39m\u001b[33m\"\u001b[39m)) \u001b[38;5;66;03m# return the index of the element put in argument and return error if the element is not in the list\u001b[39;00m\n\u001b[32m----> \u001b[39m\u001b[32m3\u001b[39m \u001b[38;5;28mprint\u001b[39m(\u001b[43mlist2\u001b[49m\u001b[43m.\u001b[49m\u001b[43mindex\u001b[49m\u001b[43m(\u001b[49m\u001b[32;43m7\u001b[39;49m\u001b[43m)\u001b[49m)\n",
      "\u001b[31mValueError\u001b[39m: 7 is not in list"
     ]
    }
   ],
   "source": [
    "print(list2)\n",
    "print(list2.index(\"PYTHON\")) # return the index of the element put in argument and return error if the element is not in the list\n",
    "print(list2.index(7))"
   ]
  },
  {
   "cell_type": "code",
   "execution_count": 19,
   "id": "663808e9-a903-4f07-bc92-2732df108aed",
   "metadata": {},
   "outputs": [
    {
     "name": "stdout",
     "output_type": "stream",
     "text": [
      "[False, False, True, True, True]\n"
     ]
    },
    {
     "data": {
      "text/plain": [
       "[]"
      ]
     },
     "execution_count": 19,
     "metadata": {},
     "output_type": "execute_result"
    }
   ],
   "source": [
    "print(list3)\n",
    "list3.clear() # clear all the value in a list\n",
    "list3"
   ]
  },
  {
   "cell_type": "code",
   "execution_count": null,
   "id": "15cc1e6c-14cd-4e7d-ab41-dd9d2d6bb75c",
   "metadata": {},
   "outputs": [],
   "source": [
    "help(list.pop)"
   ]
  },
  {
   "cell_type": "code",
   "execution_count": 20,
   "id": "348461ad-af75-4265-bd77-54c49fc3f392",
   "metadata": {},
   "outputs": [
    {
     "name": "stdout",
     "output_type": "stream",
     "text": [
      "[1.25687469555, 2, 6.7, 8.2, 9, 21, 55, 63]\n",
      "[1.25687469555, 2, 8.2, 9, 21, 55, 63]\n",
      "[1.25687469555, 2, 6.7, 8.2, 9, 21, 55, 63]\n"
     ]
    }
   ],
   "source": [
    "print(list1)\n",
    "list1_third_element = list1.pop(2) #remove the 3rd element but at the same time it returns the value correspendent to the index\n",
    "print(list1)\n",
    "list1.insert(2,list1_third_element) #re-insert the thirt element at it's initial place\n",
    "print(list1)"
   ]
  },
  {
   "cell_type": "code",
   "execution_count": 21,
   "id": "58150119-e668-41ac-992b-7968db01a16e",
   "metadata": {},
   "outputs": [
    {
     "name": "stdout",
     "output_type": "stream",
     "text": [
      "Help on built-in function remove:\n",
      "\n",
      "remove(value, /) method of builtins.list instance\n",
      "    Remove first occurrence of value.\n",
      "\n",
      "    Raises ValueError if the value is not present.\n",
      "\n"
     ]
    }
   ],
   "source": [
    "help(list1.remove)"
   ]
  },
  {
   "cell_type": "code",
   "execution_count": 22,
   "id": "18716ab1-3591-4e78-bae4-5ecea6242397",
   "metadata": {},
   "outputs": [
    {
     "data": {
      "text/plain": [
       "[1.25687469555, 6.7, 8.2, 9, 21, 55, 63]"
      ]
     },
     "execution_count": 22,
     "metadata": {},
     "output_type": "execute_result"
    }
   ],
   "source": [
    "list1.remove(2)\n",
    "list1"
   ]
  },
  {
   "cell_type": "code",
   "execution_count": 23,
   "id": "79dbfffb-a1c9-4f5f-8b8e-6eecce7f4d00",
   "metadata": {},
   "outputs": [
    {
     "data": {
      "text/plain": [
       "[63, 55, 21, 9, 8.2, 6.7, 1.25687469555]"
      ]
     },
     "execution_count": 23,
     "metadata": {},
     "output_type": "execute_result"
    }
   ],
   "source": [
    "list1.reverse()\n",
    "list1"
   ]
  },
  {
   "cell_type": "markdown",
   "id": "46c80747-0629-4a5c-8b6d-f28dd1956189",
   "metadata": {},
   "source": [
    "### Operations on list"
   ]
  },
  {
   "cell_type": "code",
   "execution_count": 25,
   "id": "ac0b3f7f-6b46-48ce-a9f0-315e8bac09b3",
   "metadata": {},
   "outputs": [
    {
     "data": {
      "text/plain": [
       "[63,\n",
       " 55,\n",
       " 21,\n",
       " 9,\n",
       " 8.2,\n",
       " 6.7,\n",
       " 1.25687469555,\n",
       " '!**',\n",
       " '#',\n",
       " '#ZazaVavy',\n",
       " 'A',\n",
       " 'Analakely',\n",
       " 'Andria',\n",
       " 'Baby',\n",
       " 'PYTHON',\n",
       " 'a',\n",
       " 'analakely',\n",
       " 'b',\n",
       " 'baba',\n",
       " 'kara']"
      ]
     },
     "execution_count": 25,
     "metadata": {},
     "output_type": "execute_result"
    }
   ],
   "source": [
    "# addition : add the two list into new list and the order follows the order of the addition\n",
    "list5 = list1 + list2\n",
    "list5"
   ]
  },
  {
   "cell_type": "code",
   "execution_count": 26,
   "id": "bbdd9e2b-1d3b-445c-8b54-964757b79827",
   "metadata": {},
   "outputs": [
    {
     "ename": "TypeError",
     "evalue": "unsupported operand type(s) for /: 'list' and 'int'",
     "output_type": "error",
     "traceback": [
      "\u001b[31m---------------------------------------------------------------------------\u001b[39m",
      "\u001b[31mTypeError\u001b[39m                                 Traceback (most recent call last)",
      "\u001b[36mCell\u001b[39m\u001b[36m \u001b[39m\u001b[32mIn[26]\u001b[39m\u001b[32m, line 1\u001b[39m\n\u001b[32m----> \u001b[39m\u001b[32m1\u001b[39m \u001b[43mlist1\u001b[49m\u001b[43m \u001b[49m\u001b[43m/\u001b[49m\u001b[43m \u001b[49m\u001b[32;43m2\u001b[39;49m\n",
      "\u001b[31mTypeError\u001b[39m: unsupported operand type(s) for /: 'list' and 'int'"
     ]
    }
   ],
   "source": [
    "list1 / 2"
   ]
  },
  {
   "cell_type": "code",
   "execution_count": 27,
   "id": "f84d7c60-c44e-4359-a7f7-a259764ff1da",
   "metadata": {},
   "outputs": [
    {
     "ename": "TypeError",
     "evalue": "unsupported operand type(s) for /: 'list' and 'list'",
     "output_type": "error",
     "traceback": [
      "\u001b[31m---------------------------------------------------------------------------\u001b[39m",
      "\u001b[31mTypeError\u001b[39m                                 Traceback (most recent call last)",
      "\u001b[36mCell\u001b[39m\u001b[36m \u001b[39m\u001b[32mIn[27]\u001b[39m\u001b[32m, line 1\u001b[39m\n\u001b[32m----> \u001b[39m\u001b[32m1\u001b[39m \u001b[43mlist1\u001b[49m\u001b[43m \u001b[49m\u001b[43m/\u001b[49m\u001b[43m \u001b[49m\u001b[43mlist1\u001b[49m\n",
      "\u001b[31mTypeError\u001b[39m: unsupported operand type(s) for /: 'list' and 'list'"
     ]
    }
   ],
   "source": [
    "list1 / list1"
   ]
  },
  {
   "cell_type": "code",
   "execution_count": 28,
   "id": "6a2d9091-4bce-4e99-a55f-32e4728b8920",
   "metadata": {},
   "outputs": [
    {
     "ename": "TypeError",
     "evalue": "can only concatenate list (not \"int\") to list",
     "output_type": "error",
     "traceback": [
      "\u001b[31m---------------------------------------------------------------------------\u001b[39m",
      "\u001b[31mTypeError\u001b[39m                                 Traceback (most recent call last)",
      "\u001b[36mCell\u001b[39m\u001b[36m \u001b[39m\u001b[32mIn[28]\u001b[39m\u001b[32m, line 1\u001b[39m\n\u001b[32m----> \u001b[39m\u001b[32m1\u001b[39m \u001b[43mlist1\u001b[49m\u001b[43m+\u001b[49m\u001b[32;43m2\u001b[39;49m\n",
      "\u001b[31mTypeError\u001b[39m: can only concatenate list (not \"int\") to list"
     ]
    }
   ],
   "source": [
    "list1+2"
   ]
  },
  {
   "cell_type": "code",
   "execution_count": 29,
   "id": "8e48b67e-e121-4496-a7cd-015f1295a46d",
   "metadata": {},
   "outputs": [
    {
     "data": {
      "text/plain": [
       "[63,\n",
       " 55,\n",
       " 21,\n",
       " 9,\n",
       " 8.2,\n",
       " 6.7,\n",
       " 1.25687469555,\n",
       " 63,\n",
       " 55,\n",
       " 21,\n",
       " 9,\n",
       " 8.2,\n",
       " 6.7,\n",
       " 1.25687469555]"
      ]
     },
     "execution_count": 29,
     "metadata": {},
     "output_type": "execute_result"
    }
   ],
   "source": [
    "list1 * 2"
   ]
  },
  {
   "cell_type": "markdown",
   "id": "095e41ec-23cd-4008-a31c-203f876568c2",
   "metadata": {},
   "source": [
    "> Conclusion : we can only use + an * with list as arithmetic operators"
   ]
  },
  {
   "cell_type": "markdown",
   "id": "f8f466e2-10a9-48bd-8ff5-0dd28f6dfc48",
   "metadata": {},
   "source": [
    "### Accessing and slicing "
   ]
  },
  {
   "cell_type": "code",
   "execution_count": 30,
   "id": "6986e291-5ebe-49cd-8377-f468186acafa",
   "metadata": {},
   "outputs": [
    {
     "data": {
      "text/plain": [
       "[63, 55, 21, 9, 8.2, 6.7, 1.25687469555]"
      ]
     },
     "execution_count": 30,
     "metadata": {},
     "output_type": "execute_result"
    }
   ],
   "source": [
    "list1"
   ]
  },
  {
   "cell_type": "code",
   "execution_count": 33,
   "id": "161e0725-950e-4be4-85fe-b50508e93251",
   "metadata": {},
   "outputs": [
    {
     "data": {
      "text/plain": [
       "[21, 9, 8.2]"
      ]
     },
     "execution_count": 33,
     "metadata": {},
     "output_type": "execute_result"
    }
   ],
   "source": [
    "list6 = list1[2:5] # the sliciing is exclusive at the end : [2:5[ \n",
    "list6"
   ]
  },
  {
   "cell_type": "code",
   "execution_count": 37,
   "id": "9fb7fae4-d7d0-4156-bf77-e4e9e17620ac",
   "metadata": {},
   "outputs": [
    {
     "data": {
      "text/plain": [
       "[55, 8.2]"
      ]
     },
     "execution_count": 37,
     "metadata": {},
     "output_type": "execute_result"
    }
   ],
   "source": [
    "list7 = list1[1::3]\n",
    "list7"
   ]
  },
  {
   "cell_type": "code",
   "execution_count": 39,
   "id": "04e53272-d534-45e9-ba54-0b3858e5a382",
   "metadata": {},
   "outputs": [
    {
     "data": {
      "text/plain": [
       "[1.25687469555, 6.7, 8.2, 9, 21, 55, 63]"
      ]
     },
     "execution_count": 39,
     "metadata": {},
     "output_type": "execute_result"
    }
   ],
   "source": [
    "list8 = list1[::-1] #inversing list 1, like reverse methode\n",
    "list8"
   ]
  },
  {
   "cell_type": "code",
   "execution_count": 40,
   "id": "fdc8b450-2f5c-4bf0-af9c-a4ee099db4a0",
   "metadata": {},
   "outputs": [
    {
     "data": {
      "text/plain": [
       "'!**'"
      ]
     },
     "execution_count": 40,
     "metadata": {},
     "output_type": "execute_result"
    }
   ],
   "source": [
    "list2[0]"
   ]
  },
  {
   "cell_type": "markdown",
   "id": "c24562ba-64ba-4803-9d2b-e7c9dbcb1623",
   "metadata": {},
   "source": [
    "## Dictionary "
   ]
  },
  {
   "cell_type": "code",
   "execution_count": 89,
   "id": "0b519e24-8345-4bf2-8ee8-7fd11fd07764",
   "metadata": {},
   "outputs": [],
   "source": [
    "persons = {\"name\":[\"Kenny\",\"Jenny\",\"Kara\"],\"country\":[\"Madagascar\",\"Kenya\",\"Rwanda\"], \"height\":[1.55,1.87,1.60]}"
   ]
  },
  {
   "cell_type": "code",
   "execution_count": 90,
   "id": "9e3a1661-364f-4f3a-9c80-9daeebd3d429",
   "metadata": {},
   "outputs": [
    {
     "data": {
      "text/plain": [
       "dict_items([('name', ['Kenny', 'Jenny', 'Kara']), ('country', ['Madagascar', 'Kenya', 'Rwanda']), ('height', [1.55, 1.87, 1.6])])"
      ]
     },
     "execution_count": 90,
     "metadata": {},
     "output_type": "execute_result"
    }
   ],
   "source": [
    "persons.items()"
   ]
  },
  {
   "cell_type": "code",
   "execution_count": 91,
   "id": "a03ceeea-e474-40a1-8cc0-813d4736728a",
   "metadata": {},
   "outputs": [
    {
     "data": {
      "text/plain": [
       "dict_keys(['name', 'country', 'height'])"
      ]
     },
     "execution_count": 91,
     "metadata": {},
     "output_type": "execute_result"
    }
   ],
   "source": [
    "persons.keys() # output the keys of our dict"
   ]
  },
  {
   "cell_type": "code",
   "execution_count": 92,
   "id": "14109ccc-d287-48ff-a5b1-d4a40380c598",
   "metadata": {},
   "outputs": [
    {
     "data": {
      "text/plain": [
       "dict_values([['Kenny', 'Jenny', 'Kara'], ['Madagascar', 'Kenya', 'Rwanda'], [1.55, 1.87, 1.6]])"
      ]
     },
     "execution_count": 92,
     "metadata": {},
     "output_type": "execute_result"
    }
   ],
   "source": [
    "persons.values()"
   ]
  },
  {
   "cell_type": "code",
   "execution_count": 93,
   "id": "a1ffdb53-92fb-487d-b6da-42cb9a50254d",
   "metadata": {},
   "outputs": [
    {
     "name": "stdout",
     "output_type": "stream",
     "text": [
      "['Kenny', 'Jenny', 'Kara']\n"
     ]
    }
   ],
   "source": [
    "print(persons['name'])"
   ]
  },
  {
   "cell_type": "code",
   "execution_count": 94,
   "id": "186b5f7d-46f5-4187-8f64-17658ddd9b75",
   "metadata": {},
   "outputs": [
    {
     "name": "stdout",
     "output_type": "stream",
     "text": [
      "{'name': ['Kenny', 'Jenny', 'Kara'], 'country': ['Madagascar', 'Kenya', 'Rwanda'], 'height': [1.55, 1.87, 1.6]}\n"
     ]
    }
   ],
   "source": [
    "print(persons)"
   ]
  },
  {
   "cell_type": "code",
   "execution_count": 95,
   "id": "34a761f3-c0ea-4bba-87d9-06584ba1fcbf",
   "metadata": {},
   "outputs": [
    {
     "data": {
      "text/plain": [
       "{'name': ['Kenny', 'Jenny', 'Kara'],\n",
       " 'country': 'Madagascar',\n",
       " 'height': [1.55, 1.87, 1.6]}"
      ]
     },
     "execution_count": 95,
     "metadata": {},
     "output_type": "execute_result"
    }
   ],
   "source": [
    "persons[\"country\"]= \"Madagascar\"\n",
    "persons"
   ]
  },
  {
   "cell_type": "code",
   "execution_count": 96,
   "id": "ca535b72-2eed-43c2-bbf9-58e4b26bd50f",
   "metadata": {},
   "outputs": [],
   "source": [
    "persons[\"country\"] = [persons[\"country\"]]\n",
    "persons[\"country\"].extend([\"Rwanda\",\"Kenya\"])"
   ]
  },
  {
   "cell_type": "code",
   "execution_count": 97,
   "id": "b17bb0f4-93ec-41b0-b4f0-6cd47763fb00",
   "metadata": {},
   "outputs": [
    {
     "data": {
      "text/plain": [
       "{'name': ['Kenny', 'Jenny', 'Kara'],\n",
       " 'country': ['Madagascar', 'Rwanda', 'Kenya'],\n",
       " 'height': [1.55, 1.87, 1.6]}"
      ]
     },
     "execution_count": 97,
     "metadata": {},
     "output_type": "execute_result"
    }
   ],
   "source": [
    "persons"
   ]
  },
  {
   "cell_type": "code",
   "execution_count": 98,
   "id": "0ff9238e-a5d8-4cf7-a107-ac401db66416",
   "metadata": {},
   "outputs": [],
   "source": [
    "# adding element to our dict\n",
    "persons[\"id\"] = list(range (1,len(persons[\"name\"])+1))"
   ]
  },
  {
   "cell_type": "code",
   "execution_count": 99,
   "id": "01ed9d31-63c7-4fe4-9b47-34c33a694c8f",
   "metadata": {},
   "outputs": [
    {
     "data": {
      "text/plain": [
       "{'name': ['Kenny', 'Jenny', 'Kara'],\n",
       " 'country': ['Madagascar', 'Rwanda', 'Kenya'],\n",
       " 'height': [1.55, 1.87, 1.6],\n",
       " 'id': [1, 2, 3]}"
      ]
     },
     "execution_count": 99,
     "metadata": {},
     "output_type": "execute_result"
    }
   ],
   "source": [
    "persons"
   ]
  },
  {
   "cell_type": "code",
   "execution_count": 100,
   "id": "318733f9-e8c8-4b3f-8875-cf60776167d7",
   "metadata": {},
   "outputs": [
    {
     "data": {
      "text/plain": [
       "[1, 'Kenny', 'Madagascar', 1.55, 1, 'Kenny', 'Madagascar', 1.55]"
      ]
     },
     "execution_count": 100,
     "metadata": {},
     "output_type": "execute_result"
    }
   ],
   "source": [
    "# here we acces the infos about person 1 and store them in a list\n",
    "person0 = [] \n",
    "person1.append(persons['id'][0])\n",
    "person1.append(persons[\"name\"][0])\n",
    "person1.append(persons[\"country\"][0])\n",
    "person1.append(persons[\"height\"][0])\n",
    "person1"
   ]
  },
  {
   "cell_type": "code",
   "execution_count": 102,
   "id": "9a8236ac-6bae-4a8c-b133-73030e406bbb",
   "metadata": {},
   "outputs": [],
   "source": [
    "# deleting the person1 from the dict\n",
    "del persons[\"name\"][0]\n",
    "del persons[\"country\"][0]\n",
    "del persons[\"height\"][0]\n",
    "del persons['id'][0]"
   ]
  },
  {
   "cell_type": "code",
   "execution_count": 103,
   "id": "97a4f691-3151-4736-a0fb-d14fe4e6d042",
   "metadata": {},
   "outputs": [
    {
     "data": {
      "text/plain": [
       "{'name': ['Jenny', 'Kara'],\n",
       " 'country': ['Rwanda', 'Kenya'],\n",
       " 'height': [1.87, 1.6],\n",
       " 'id': [2, 3]}"
      ]
     },
     "execution_count": 103,
     "metadata": {},
     "output_type": "execute_result"
    }
   ],
   "source": [
    "persons"
   ]
  },
  {
   "cell_type": "code",
   "execution_count": 104,
   "id": "1770c28c-84ab-4de4-ba21-8a6f972c620b",
   "metadata": {},
   "outputs": [],
   "source": [
    "# deleting the element 'id'\n",
    "del persons[\"id\"]"
   ]
  },
  {
   "cell_type": "code",
   "execution_count": 105,
   "id": "1983eab2-5934-47bb-85fb-1708e3b7e595",
   "metadata": {},
   "outputs": [
    {
     "data": {
      "text/plain": [
       "{'name': ['Jenny', 'Kara'],\n",
       " 'country': ['Rwanda', 'Kenya'],\n",
       " 'height': [1.87, 1.6]}"
      ]
     },
     "execution_count": 105,
     "metadata": {},
     "output_type": "execute_result"
    }
   ],
   "source": [
    "persons"
   ]
  },
  {
   "cell_type": "code",
   "execution_count": 106,
   "id": "20db77e4-2a89-4517-8186-2864b4eef0cf",
   "metadata": {},
   "outputs": [],
   "source": [
    "# method pop\n",
    "persons[\"surname\"] = persons.pop('name') # this will delete annd output at the same time the element with key \"name\", but if we store it into new key, the value of the old key will be assigned too the new key so its like its renaming the key"
   ]
  },
  {
   "cell_type": "code",
   "execution_count": 107,
   "id": "4a1af3d9-3899-450a-9810-91beed000336",
   "metadata": {},
   "outputs": [
    {
     "data": {
      "text/plain": [
       "{'country': ['Rwanda', 'Kenya'],\n",
       " 'height': [1.87, 1.6],\n",
       " 'surname': ['Jenny', 'Kara']}"
      ]
     },
     "execution_count": 107,
     "metadata": {},
     "output_type": "execute_result"
    }
   ],
   "source": [
    "persons"
   ]
  },
  {
   "cell_type": "code",
   "execution_count": null,
   "id": "1d8e6b6a-8c23-4faa-beca-ae3cb75ee28d",
   "metadata": {},
   "outputs": [],
   "source": []
  }
 ],
 "metadata": {
  "kernelspec": {
   "display_name": "Python 3 (ipykernel)",
   "language": "python",
   "name": "python3"
  },
  "language_info": {
   "codemirror_mode": {
    "name": "ipython",
    "version": 3
   },
   "file_extension": ".py",
   "mimetype": "text/x-python",
   "name": "python",
   "nbconvert_exporter": "python",
   "pygments_lexer": "ipython3",
   "version": "3.13.7"
  }
 },
 "nbformat": 4,
 "nbformat_minor": 5
}
