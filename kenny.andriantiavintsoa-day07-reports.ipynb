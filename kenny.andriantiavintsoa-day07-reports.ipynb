{
 "cells": [
  {
   "cell_type": "markdown",
   "id": "f8868175-4fe3-4550-b73a-2fdfc1024b55",
   "metadata": {},
   "source": [
    "<center><b>AFRICAN INSTITUTE FOR MATHEMATICAL SCIENCES</b><br><br>\n",
    "(AIMS RWANDA, KIGALI)</b></center>"
   ]
  },
  {
   "cell_type": "markdown",
   "id": "e0d114b5-5641-4917-933a-f7c7b79e8a87",
   "metadata": {},
   "source": [
    "---\n",
    "---\n",
    "Name : Kenny Lalatiana ANDRIANTIAVINTSOA <br>\n",
    "Course : Python Programming <br>\n",
    "Report number : 7 <br>\n",
    "Date : October 1, 2025\n",
    "\n",
    "---\n",
    "---"
   ]
  },
  {
   "cell_type": "code",
   "execution_count": 31,
   "id": "4d648001-3687-405a-8e48-6cff7468efc1",
   "metadata": {},
   "outputs": [],
   "source": [
    "def passwordChecking():\n",
    "    \"\"\"\n",
    "    This function check if a given character contains capital letter, normal letter, special character, and digit.\n",
    "    Input : String to chek.\n",
    "    Output : Prints \"Valid\" if the string verify all the condition, prints \"Try again\" if not.\n",
    "    \"\"\"\n",
    "    password = input(\"Please, enter your new password: \")\n",
    "    \n",
    "    character_spec = \"&~#{[|`^@]}²,;:!§/.?ù*$£*'(-_)=+°\"\n",
    "    digits = \"0123456789\"\n",
    "    alphabet = \"abcdefghijklmnopqrstuvwxyz\"\n",
    "    \n",
    "    character = digit = lower = upper = False\n",
    "    \n",
    "    for char in character_spec:\n",
    "        if char in password:\n",
    "            character = True\n",
    "            break \n",
    "            \n",
    "    for num in digits:\n",
    "        if num in password:\n",
    "            digit = True\n",
    "            break\n",
    "    \n",
    "    for alpha in alphabet:\n",
    "        if alpha in password:\n",
    "            lower = True\n",
    "            break\n",
    "    \n",
    "    for upalpha in alphabet.upper():\n",
    "        if upalpha in password:\n",
    "            upper = True\n",
    "            break\n",
    "    \n",
    "    if character and digit and lower and upper:\n",
    "        print(\"The password is valid\")\n",
    "    else:\n",
    "        print(\"\"\"A password must contain at least one uppercase letter,one lowercase letter, one digit, and one special character. Try again!\"\"\")\n"
   ]
  },
  {
   "cell_type": "code",
   "execution_count": 32,
   "id": "b62ab2de-d159-4603-9c53-edaedc132bc3",
   "metadata": {},
   "outputs": [
    {
     "name": "stdin",
     "output_type": "stream",
     "text": [
      "Please, enter your new password:  fsdifsldf\n"
     ]
    },
    {
     "name": "stdout",
     "output_type": "stream",
     "text": [
      "A password must contain at least one uppercase letter,one lowercase letter, one digit, and one special character. Try again!\n"
     ]
    }
   ],
   "source": [
    "passwordChecking()"
   ]
  },
  {
   "cell_type": "code",
   "execution_count": 33,
   "id": "2475840c-a7b2-40d9-b0a2-b27a7f5b7d17",
   "metadata": {},
   "outputs": [
    {
     "name": "stdin",
     "output_type": "stream",
     "text": [
      "Please, enter your new password:  Andfzef12#\n"
     ]
    },
    {
     "name": "stdout",
     "output_type": "stream",
     "text": [
      "The password is valid\n"
     ]
    }
   ],
   "source": [
    "passwordChecking()"
   ]
  },
  {
   "cell_type": "code",
   "execution_count": null,
   "id": "50b2ae2a-979c-47e2-af20-ceda29f4d9ca",
   "metadata": {},
   "outputs": [],
   "source": []
  }
 ],
 "metadata": {
  "kernelspec": {
   "display_name": "Python 3 (ipykernel)",
   "language": "python",
   "name": "python3"
  },
  "language_info": {
   "codemirror_mode": {
    "name": "ipython",
    "version": 3
   },
   "file_extension": ".py",
   "mimetype": "text/x-python",
   "name": "python",
   "nbconvert_exporter": "python",
   "pygments_lexer": "ipython3",
   "version": "3.13.7"
  }
 },
 "nbformat": 4,
 "nbformat_minor": 5
}
