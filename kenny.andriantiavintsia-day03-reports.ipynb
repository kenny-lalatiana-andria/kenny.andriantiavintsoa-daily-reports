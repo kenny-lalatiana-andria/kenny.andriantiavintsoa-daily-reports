{
 "cells": [
  {
   "cell_type": "markdown",
   "id": "657427a6-8d58-4d95-9005-ae0cd0c273fc",
   "metadata": {},
   "source": [
    "<center><b>AFRICAN INSTITUTE FOR MATHEMATICAL SCIENCES</b><br><br>\n",
    "(AIMS RWANDA, KIGALI)</b></center>\n"
   ]
  },
  {
   "cell_type": "markdown",
   "id": "95fe63c4-bf6e-4f72-be22-47a4b304bc06",
   "metadata": {},
   "source": [
    "---\n",
    "---\n",
    "Name : Kenny Lalatiana ANDRIANTIAVINTSOA <br>\n",
    "Course : Python Programming <br>\n",
    "Report number : 3 <br>\n",
    "Date : September 25, 2025\n",
    "\n",
    "---\n",
    "---"
   ]
  },
  {
   "cell_type": "code",
   "execution_count": 11,
   "id": "529b7c8f-c766-4832-b1ba-ce5e7bb99766",
   "metadata": {},
   "outputs": [],
   "source": [
    "my_string = \"Let's test 3 methods with this string\""
   ]
  },
  {
   "cell_type": "code",
   "execution_count": 2,
   "id": "df5395f4-ae86-4041-aa34-89273724fe3d",
   "metadata": {},
   "outputs": [
    {
     "data": {
      "text/plain": [
       "\"Let'S Test 3 Methods With This String\""
      ]
     },
     "execution_count": 2,
     "metadata": {},
     "output_type": "execute_result"
    }
   ],
   "source": [
    "my_string.title() # this method capitalize all the first character of each word"
   ]
  },
  {
   "cell_type": "code",
   "execution_count": 3,
   "id": "65210e0a-2f0b-4ba9-a93b-367cfcd17293",
   "metadata": {},
   "outputs": [
    {
     "data": {
      "text/plain": [
       "[\"Let's\", 'test', '3', 'methods', 'with', 'this', 'string']"
      ]
     },
     "execution_count": 3,
     "metadata": {},
     "output_type": "execute_result"
    }
   ],
   "source": [
    "my_string.split() # this method output a list of each word separated by space by default but we can specify the separator"
   ]
  },
  {
   "cell_type": "code",
   "execution_count": 4,
   "id": "21741520-aa78-495a-9572-0b455bf347ee",
   "metadata": {},
   "outputs": [
    {
     "data": {
      "text/plain": [
       "['Let', 's test 3 methods with this string']"
      ]
     },
     "execution_count": 4,
     "metadata": {},
     "output_type": "execute_result"
    }
   ],
   "source": [
    "my_string.split(\"'\") # example , here we split by \"'\""
   ]
  },
  {
   "cell_type": "code",
   "execution_count": 5,
   "id": "030b7ef4-3ea7-4e88-b890-1141f7f68860",
   "metadata": {},
   "outputs": [
    {
     "data": {
      "text/plain": [
       "(\"Let's test \", '3', ' methods with this string')"
      ]
     },
     "execution_count": 5,
     "metadata": {},
     "output_type": "execute_result"
    }
   ],
   "source": [
    "my_string.rpartition(\"3\") # return a tuple of 3 parts using the given separator, it will search for the separator in the string  starting\n",
    "#if the separator is found, returns a 3-tuple containing the part before the separator, the separator itself, and the part after it\n",
    "# the separator has to be defined, not like with split"
   ]
  },
  {
   "cell_type": "code",
   "execution_count": 6,
   "id": "8f102224-87a5-4812-9cbd-7a2e27d6c233",
   "metadata": {},
   "outputs": [
    {
     "data": {
      "text/plain": [
       "(\"Let's test 3 methods with this\", ' ', 'string')"
      ]
     },
     "execution_count": 6,
     "metadata": {},
     "output_type": "execute_result"
    }
   ],
   "source": [
    "my_string.rpartition(\" \")"
   ]
  },
  {
   "cell_type": "code",
   "execution_count": 8,
   "id": "6c42f4af-49ae-4d8f-89c1-85d450187231",
   "metadata": {},
   "outputs": [
    {
     "data": {
      "text/plain": [
       "False"
      ]
     },
     "execution_count": 8,
     "metadata": {},
     "output_type": "execute_result"
    }
   ],
   "source": [
    "my_string.isalpha() # verify if all the characther are alphabet"
   ]
  },
  {
   "cell_type": "code",
   "execution_count": 13,
   "id": "4717ace3-23e3-4659-9177-1701cc60e11d",
   "metadata": {},
   "outputs": [
    {
     "data": {
      "text/plain": [
       "False"
      ]
     },
     "execution_count": 13,
     "metadata": {},
     "output_type": "execute_result"
    }
   ],
   "source": [
    "my_string.isalnum() # verify if my string is made of (a-z) and (0-9) without sapce of speciall character"
   ]
  },
  {
   "cell_type": "code",
   "execution_count": 14,
   "id": "92e54852-1449-478e-9277-b88b134cb10d",
   "metadata": {},
   "outputs": [
    {
     "data": {
      "text/plain": [
       "True"
      ]
     },
     "execution_count": 14,
     "metadata": {},
     "output_type": "execute_result"
    }
   ],
   "source": [
    "alphanum = \"124vzezefze521561\"\n",
    "alphanum.isalnum()"
   ]
  },
  {
   "cell_type": "code",
   "execution_count": 16,
   "id": "69b0d2b8-cb49-42a7-8352-534e70371034",
   "metadata": {},
   "outputs": [
    {
     "data": {
      "text/plain": [
       "99"
      ]
     },
     "execution_count": 16,
     "metadata": {},
     "output_type": "execute_result"
    }
   ],
   "source": [
    "create_file = open(\"my_file.txt\",\"w\")\n",
    "create_file.write(\"This is my first try, creating txt file on jupyter and it works. \\n And i am happy to see the result\")"
   ]
  },
  {
   "cell_type": "code",
   "execution_count": 18,
   "id": "40747869-b342-4c45-9720-69b033150ec4",
   "metadata": {},
   "outputs": [
    {
     "data": {
      "text/plain": [
       "['This is my first try, creating txt file on jupyter and it works. \\n',\n",
       " ' And i am happy to see the result']"
      ]
     },
     "execution_count": 18,
     "metadata": {},
     "output_type": "execute_result"
    }
   ],
   "source": [
    "create_file= open(\"my_file.txt\",\"r\")\n",
    "create_file.readlines()"
   ]
  },
  {
   "cell_type": "code",
   "execution_count": null,
   "id": "c546662e-75ab-4fa9-9af0-19b0eb33df70",
   "metadata": {},
   "outputs": [],
   "source": []
  }
 ],
 "metadata": {
  "kernelspec": {
   "display_name": "Python 3 (ipykernel)",
   "language": "python",
   "name": "python3"
  },
  "language_info": {
   "codemirror_mode": {
    "name": "ipython",
    "version": 3
   },
   "file_extension": ".py",
   "mimetype": "text/x-python",
   "name": "python",
   "nbconvert_exporter": "python",
   "pygments_lexer": "ipython3",
   "version": "3.13.7"
  }
 },
 "nbformat": 4,
 "nbformat_minor": 5
}
