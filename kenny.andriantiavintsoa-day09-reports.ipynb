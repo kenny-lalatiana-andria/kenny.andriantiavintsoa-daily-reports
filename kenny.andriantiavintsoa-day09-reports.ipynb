{
 "cells": [
  {
   "cell_type": "markdown",
   "id": "8d5c7219-cf02-4292-9d39-4d5e20bbb6fc",
   "metadata": {},
   "source": [
    "<center><b>AFRICAN INSTITUTE FOR MATHEMATICAL SCIENCES</b><br><br>\n",
    "(AIMS RWANDA, KIGALI)</b></center>\n"
   ]
  },
  {
   "cell_type": "markdown",
   "id": "dbd45e9d-c1ea-42a6-b6ca-1f8a0e7052a1",
   "metadata": {},
   "source": [
    "---\n",
    "---\n",
    "Name : Kenny Lalatiana ANDRIANTIAVINTSOA <br>\n",
    "Course : Python Programming <br>\n",
    "Report number : 9 <br>\n",
    "Date : October 3, 2025\n",
    "\n",
    "---\n",
    "---"
   ]
  },
  {
   "cell_type": "markdown",
   "id": "138f7cfb-7bbf-4aa0-b12b-37cba62591a7",
   "metadata": {},
   "source": [
    "# Recap"
   ]
  },
  {
   "cell_type": "markdown",
   "id": "811092d3-0542-4647-92ff-4c8cce2f64df",
   "metadata": {},
   "source": [
    "`variable + type + operations`"
   ]
  },
  {
   "cell_type": "code",
   "execution_count": 2,
   "id": "6c5e79f2-edb2-4ca3-affd-a05865050ea3",
   "metadata": {},
   "outputs": [],
   "source": [
    "my_int = 45\n",
    "my_float = 1.93\n",
    "my_str = 'AIMS in Kigali'"
   ]
  },
  {
   "cell_type": "code",
   "execution_count": 3,
   "id": "c90e3b75-8311-4170-abe7-50de7d5fd3a2",
   "metadata": {},
   "outputs": [
    {
     "name": "stdout",
     "output_type": "stream",
     "text": [
      "45\n",
      "1.93\n",
      "AIMS in Kigali\n"
     ]
    }
   ],
   "source": [
    "print(my_int)\n",
    "print(my_float)\n",
    "print(my_str)"
   ]
  },
  {
   "cell_type": "code",
   "execution_count": 4,
   "id": "9e2cb592-5757-47cb-a8c1-2e2ad00d9d3c",
   "metadata": {},
   "outputs": [
    {
     "data": {
      "text/plain": [
       "int"
      ]
     },
     "execution_count": 4,
     "metadata": {},
     "output_type": "execute_result"
    }
   ],
   "source": [
    "type(my_int)"
   ]
  },
  {
   "cell_type": "code",
   "execution_count": 5,
   "id": "13064446-e512-4658-91ff-bfe82d13ed29",
   "metadata": {},
   "outputs": [
    {
     "data": {
      "text/plain": [
       "float"
      ]
     },
     "execution_count": 5,
     "metadata": {},
     "output_type": "execute_result"
    }
   ],
   "source": [
    "type(my_float)"
   ]
  },
  {
   "cell_type": "code",
   "execution_count": 6,
   "id": "8a606c60-4a9d-4fab-9bbb-cec4e6a9e057",
   "metadata": {},
   "outputs": [
    {
     "data": {
      "text/plain": [
       "str"
      ]
     },
     "execution_count": 6,
     "metadata": {},
     "output_type": "execute_result"
    }
   ],
   "source": [
    "type(my_str)"
   ]
  },
  {
   "cell_type": "code",
   "execution_count": 7,
   "id": "4e3167e7-867f-433f-9c9e-278955362b11",
   "metadata": {},
   "outputs": [],
   "source": [
    "my_int1 = 45\n",
    "my_float1 = 1.83\n",
    "my_str1 = 'AIMS in Limbe'"
   ]
  },
  {
   "cell_type": "code",
   "execution_count": 8,
   "id": "94b89f89-65b7-44ce-851c-095e146dcc4c",
   "metadata": {},
   "outputs": [
    {
     "name": "stdout",
     "output_type": "stream",
     "text": [
      "90\n",
      "3.76\n",
      "AIMS in KigaliAIMS in Limbe\n"
     ]
    }
   ],
   "source": [
    "print(my_int+my_int1)\n",
    "print(my_float+my_float1)\n",
    "print(my_str+my_str1)"
   ]
  },
  {
   "cell_type": "code",
   "execution_count": 10,
   "id": "91398040-b877-4187-bea4-d7953d3c03ee",
   "metadata": {},
   "outputs": [
    {
     "name": "stdout",
     "output_type": "stream",
     "text": [
      "45.0\n"
     ]
    },
    {
     "data": {
      "text/plain": [
       "float"
      ]
     },
     "execution_count": 10,
     "metadata": {},
     "output_type": "execute_result"
    }
   ],
   "source": [
    "my_int_1_float = float(my_int1)\n",
    "print(my_int_1_float)\n",
    "type(my_int_1_float)"
   ]
  },
  {
   "cell_type": "code",
   "execution_count": 12,
   "id": "b38729c2-68fc-40a5-a0c2-d9b5873409be",
   "metadata": {},
   "outputs": [
    {
     "name": "stdout",
     "output_type": "stream",
     "text": [
      "45\n"
     ]
    },
    {
     "data": {
      "text/plain": [
       "str"
      ]
     },
     "execution_count": 12,
     "metadata": {},
     "output_type": "execute_result"
    }
   ],
   "source": [
    "my_int_1_str = str(my_int1)\n",
    "print(my_int_1_str)\n",
    "type(my_int_1_str)"
   ]
  },
  {
   "cell_type": "code",
   "execution_count": 13,
   "id": "054cb73a-f6b7-4883-9b06-7f814cf5d497",
   "metadata": {},
   "outputs": [
    {
     "data": {
      "text/plain": [
       "'AIMS in Limbe'"
      ]
     },
     "execution_count": 13,
     "metadata": {},
     "output_type": "execute_result"
    }
   ],
   "source": [
    "my_str1 = 'AIMS in Limbe'\n",
    "my_str1"
   ]
  },
  {
   "cell_type": "code",
   "execution_count": 14,
   "id": "7d73ddf5-2c32-4292-947e-9b6432ba1ced",
   "metadata": {},
   "outputs": [
    {
     "data": {
      "text/plain": [
       "'A'"
      ]
     },
     "execution_count": 14,
     "metadata": {},
     "output_type": "execute_result"
    }
   ],
   "source": [
    "my_str1[0]"
   ]
  },
  {
   "cell_type": "code",
   "execution_count": 15,
   "id": "eedf856b-40f3-49d3-b726-a1636efbd018",
   "metadata": {},
   "outputs": [
    {
     "data": {
      "text/plain": [
       "'e'"
      ]
     },
     "execution_count": 15,
     "metadata": {},
     "output_type": "execute_result"
    }
   ],
   "source": [
    "my_str1[-1]"
   ]
  },
  {
   "cell_type": "code",
   "execution_count": 16,
   "id": "065e5afa-4495-4f83-b2c5-09203f8110a0",
   "metadata": {},
   "outputs": [
    {
     "data": {
      "text/plain": [
       "'i'"
      ]
     },
     "execution_count": 16,
     "metadata": {},
     "output_type": "execute_result"
    }
   ],
   "source": [
    "my_str1[5]"
   ]
  },
  {
   "cell_type": "code",
   "execution_count": 17,
   "id": "2ba9ce15-db46-467b-85cf-97100c75e542",
   "metadata": {},
   "outputs": [
    {
     "data": {
      "text/plain": [
       "'M n'"
      ]
     },
     "execution_count": 17,
     "metadata": {},
     "output_type": "execute_result"
    }
   ],
   "source": [
    "my_str1[2:8:2]"
   ]
  },
  {
   "cell_type": "markdown",
   "id": "84f4bbde-b937-43dc-9001-ef56c0f0b8f4",
   "metadata": {},
   "source": [
    "### `list, tuple, set, dictionary`"
   ]
  },
  {
   "cell_type": "code",
   "execution_count": 19,
   "id": "2efa0da2-8b3b-467c-8326-6c59172edcf8",
   "metadata": {},
   "outputs": [
    {
     "name": "stdout",
     "output_type": "stream",
     "text": [
      "[2, 5, 'AIMS', 98, 45, 67, 'AIMS in Kigali']\n"
     ]
    }
   ],
   "source": [
    "my_list1 = [2,5,'AIMS',98,45,67,my_str]\n",
    "print(my_list1)"
   ]
  },
  {
   "cell_type": "code",
   "execution_count": 20,
   "id": "ada2e568-f3ec-4d2e-bcee-acaa9d9258e6",
   "metadata": {},
   "outputs": [
    {
     "data": {
      "text/plain": [
       "'AIMS in Kigali'"
      ]
     },
     "execution_count": 20,
     "metadata": {},
     "output_type": "execute_result"
    }
   ],
   "source": [
    "my_list1[-1]"
   ]
  },
  {
   "cell_type": "code",
   "execution_count": 21,
   "id": "152b2306-9e60-4f8f-9ceb-56c38a352ad4",
   "metadata": {},
   "outputs": [
    {
     "data": {
      "text/plain": [
       "2"
      ]
     },
     "execution_count": 21,
     "metadata": {},
     "output_type": "execute_result"
    }
   ],
   "source": [
    "my_list1[0]"
   ]
  },
  {
   "cell_type": "code",
   "execution_count": 22,
   "id": "f21fcb5c-1968-4b8d-adb4-5ece03350647",
   "metadata": {},
   "outputs": [
    {
     "data": {
      "text/plain": [
       "[2,\n",
       " 5,\n",
       " 'AIMS',\n",
       " 98,\n",
       " 45,\n",
       " 67,\n",
       " 'AIMS in Kigali',\n",
       " 'AIMS in Kigali',\n",
       " 'AIMS in Kigali']"
      ]
     },
     "execution_count": 22,
     "metadata": {},
     "output_type": "execute_result"
    }
   ],
   "source": [
    "my_list1+2*[my_list1[-1]]"
   ]
  },
  {
   "cell_type": "code",
   "execution_count": 24,
   "id": "3e20df67-8dc1-4f9d-9b9c-b3f92b442adb",
   "metadata": {},
   "outputs": [
    {
     "data": {
      "text/plain": [
       "[2, 5, 'AIMS', 98, 45, 67, 'AIMS in Kigali', 2, 3, 4, 5, 6]"
      ]
     },
     "execution_count": 24,
     "metadata": {},
     "output_type": "execute_result"
    }
   ],
   "source": [
    "my_new_list = my_list1 + [2,3,4,5,6]\n",
    "my_new_list"
   ]
  },
  {
   "cell_type": "code",
   "execution_count": 25,
   "id": "cecbdd14-e0cf-4f01-b6be-6c04f4db5358",
   "metadata": {},
   "outputs": [
    {
     "data": {
      "text/plain": [
       "[98, 'AIMS in Kigali', 4]"
      ]
     },
     "execution_count": 25,
     "metadata": {},
     "output_type": "execute_result"
    }
   ],
   "source": [
    "my_new_list[3:10:3]"
   ]
  },
  {
   "cell_type": "code",
   "execution_count": 26,
   "id": "fda0cd58-60b6-4ba9-9d13-954d5a53fc8a",
   "metadata": {},
   "outputs": [],
   "source": [
    "my_dict = {'std1':[\"Zo\",'AIMS-RW',95,90,94,98],'std2':[\"Tim\",'AIMS-SN',92,87,90,93]}"
   ]
  },
  {
   "cell_type": "code",
   "execution_count": 27,
   "id": "52c64df5-3af4-425f-8a53-7645f5d1f18e",
   "metadata": {},
   "outputs": [
    {
     "data": {
      "text/plain": [
       "{'std1': ['Zo', 'AIMS-RW', 95, 90, 94, 98],\n",
       " 'std2': ['Tim', 'AIMS-SN', 92, 87, 90, 93]}"
      ]
     },
     "execution_count": 27,
     "metadata": {},
     "output_type": "execute_result"
    }
   ],
   "source": [
    "my_dict"
   ]
  },
  {
   "cell_type": "code",
   "execution_count": 28,
   "id": "633ceccc-65be-4419-980b-c5d2e684cdf9",
   "metadata": {},
   "outputs": [
    {
     "data": {
      "text/plain": [
       "dict_keys(['std1', 'std2'])"
      ]
     },
     "execution_count": 28,
     "metadata": {},
     "output_type": "execute_result"
    }
   ],
   "source": [
    "my_dict.keys()"
   ]
  },
  {
   "cell_type": "code",
   "execution_count": 29,
   "id": "b03477f4-ef6c-4b68-99d2-1ea8237da675",
   "metadata": {},
   "outputs": [
    {
     "data": {
      "text/plain": [
       "dict_values([['Zo', 'AIMS-RW', 95, 90, 94, 98], ['Tim', 'AIMS-SN', 92, 87, 90, 93]])"
      ]
     },
     "execution_count": 29,
     "metadata": {},
     "output_type": "execute_result"
    }
   ],
   "source": [
    "my_dict.values()"
   ]
  },
  {
   "cell_type": "code",
   "execution_count": 30,
   "id": "7b724b52-c4a1-42b8-83e8-4e80ad9adaff",
   "metadata": {},
   "outputs": [
    {
     "data": {
      "text/plain": [
       "dict_items([('std1', ['Zo', 'AIMS-RW', 95, 90, 94, 98]), ('std2', ['Tim', 'AIMS-SN', 92, 87, 90, 93])])"
      ]
     },
     "execution_count": 30,
     "metadata": {},
     "output_type": "execute_result"
    }
   ],
   "source": [
    "my_dict.items()"
   ]
  },
  {
   "cell_type": "code",
   "execution_count": 31,
   "id": "473ce934-ea13-4cab-86cb-3293000020c3",
   "metadata": {},
   "outputs": [
    {
     "data": {
      "text/plain": [
       "['Zo', 'AIMS-RW', 95, 90, 94, 98]"
      ]
     },
     "execution_count": 31,
     "metadata": {},
     "output_type": "execute_result"
    }
   ],
   "source": [
    "my_dict['std1']"
   ]
  },
  {
   "cell_type": "code",
   "execution_count": 32,
   "id": "fb373f26-5dda-47b9-bf46-f8297a03e068",
   "metadata": {},
   "outputs": [
    {
     "data": {
      "text/plain": [
       "{'std1': ['Zo', 'AIMS-RW', 95, 90, 94, 98],\n",
       " 'std2': ['Tim', 'AIMS-SN', 92, 87, 90, 93],\n",
       " 'std3': ['Z', 'Tataf', 35, 18, 14, 18]}"
      ]
     },
     "execution_count": 32,
     "metadata": {},
     "output_type": "execute_result"
    }
   ],
   "source": [
    "my_dict['std3']=['Z','Tataf',35,18,14,18]\n",
    "my_dict"
   ]
  },
  {
   "cell_type": "markdown",
   "id": "5f7db012-904a-41e3-9ace-230519c584bc",
   "metadata": {},
   "source": [
    "### Flow control"
   ]
  },
  {
   "cell_type": "code",
   "execution_count": 33,
   "id": "de6c57b0-8bc7-4db5-bfc0-0e82e84560c7",
   "metadata": {},
   "outputs": [],
   "source": [
    "a = 10\n",
    "if a < 0:\n",
    "    print(a)"
   ]
  },
  {
   "cell_type": "code",
   "execution_count": 35,
   "id": "35121abf-1135-4e79-b24b-432c6ae3028b",
   "metadata": {},
   "outputs": [
    {
     "name": "stdout",
     "output_type": "stream",
     "text": [
      "ooops\n"
     ]
    }
   ],
   "source": [
    "b= -20\n",
    "if b>0:\n",
    "    print(a)\n",
    "else:\n",
    "    print('ooops')"
   ]
  },
  {
   "cell_type": "code",
   "execution_count": 36,
   "id": "d2519b7b-79d9-4be0-b82c-461694c491ca",
   "metadata": {},
   "outputs": [
    {
     "name": "stdout",
     "output_type": "stream",
     "text": [
      "Good\n"
     ]
    }
   ],
   "source": [
    "c = 0\n",
    "if c > 0:\n",
    "    print('Positive, too much')\n",
    "elif c < 0:\n",
    "    print('Negative, too low')\n",
    "else:\n",
    "    print('Good')"
   ]
  },
  {
   "cell_type": "code",
   "execution_count": 37,
   "id": "eb7e51a8-c9d1-42f3-bd14-9df167b52491",
   "metadata": {},
   "outputs": [
    {
     "name": "stdout",
     "output_type": "stream",
     "text": [
      "Zo\n",
      "AIMS-RW\n",
      "95\n",
      "90\n",
      "94\n",
      "98\n"
     ]
    }
   ],
   "source": [
    "for counter in ['Zo', 'AIMS-RW', 95, 90, 94, 98]:\n",
    "    print(counter)"
   ]
  },
  {
   "cell_type": "code",
   "execution_count": 38,
   "id": "e9072d61-2ba0-442a-988e-fa75783ce83f",
   "metadata": {},
   "outputs": [
    {
     "name": "stdout",
     "output_type": "stream",
     "text": [
      "1\n",
      "4\n",
      "9\n",
      "16\n",
      "25\n",
      "36\n",
      "49\n",
      "64\n",
      "81\n",
      "100\n"
     ]
    }
   ],
   "source": [
    "i = 1\n",
    "while (i<=10):\n",
    "    print(i**2)\n",
    "    i+=1"
   ]
  },
  {
   "cell_type": "code",
   "execution_count": 46,
   "id": "e3041b2c-7184-4500-a68b-cb3d430eeeca",
   "metadata": {},
   "outputs": [],
   "source": [
    "def power_v1(number, base):\n",
    "    \"\"\"\n",
    "    Compute number**base\n",
    "    Input : number, base\n",
    "    Output: number**base\n",
    "    \"\"\"\n",
    "    return number**base"
   ]
  },
  {
   "cell_type": "code",
   "execution_count": 47,
   "id": "f609894c-2a1a-4864-ade5-40eb16d9eb30",
   "metadata": {},
   "outputs": [
    {
     "data": {
      "text/plain": [
       "8"
      ]
     },
     "execution_count": 47,
     "metadata": {},
     "output_type": "execute_result"
    }
   ],
   "source": [
    "power_v1(2,3)"
   ]
  },
  {
   "cell_type": "code",
   "execution_count": 49,
   "id": "c6d8c438-ec6e-479d-91f6-7a85778cab60",
   "metadata": {},
   "outputs": [],
   "source": [
    "def power_v2(number, base):\n",
    "    \"\"\"\n",
    "    Compute number**base\n",
    "    Input : number, base\n",
    "    Output: number**base\n",
    "    \"\"\"\n",
    "    return number,base,number**base"
   ]
  },
  {
   "cell_type": "code",
   "execution_count": 51,
   "id": "a5ad7ad8-095f-47b9-afcb-4e7e43aae360",
   "metadata": {},
   "outputs": [
    {
     "data": {
      "text/plain": [
       "(3, 5, 243)"
      ]
     },
     "execution_count": 51,
     "metadata": {},
     "output_type": "execute_result"
    }
   ],
   "source": [
    "power_v2(3,5)"
   ]
  },
  {
   "cell_type": "code",
   "execution_count": null,
   "id": "50a95849-0b3f-4ab4-9b29-c5e539ab085c",
   "metadata": {},
   "outputs": [],
   "source": []
  },
  {
   "cell_type": "code",
   "execution_count": null,
   "id": "2cb530d6-a28f-47d7-bcf7-fc9126e4b5fb",
   "metadata": {},
   "outputs": [],
   "source": []
  }
 ],
 "metadata": {
  "kernelspec": {
   "display_name": "Python 3 (ipykernel)",
   "language": "python",
   "name": "python3"
  },
  "language_info": {
   "codemirror_mode": {
    "name": "ipython",
    "version": 3
   },
   "file_extension": ".py",
   "mimetype": "text/x-python",
   "name": "python",
   "nbconvert_exporter": "python",
   "pygments_lexer": "ipython3",
   "version": "3.13.7"
  }
 },
 "nbformat": 4,
 "nbformat_minor": 5
}
