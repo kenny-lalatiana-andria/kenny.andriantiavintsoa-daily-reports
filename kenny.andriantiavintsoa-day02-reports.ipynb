{
 "cells": [
  {
   "cell_type": "markdown",
   "id": "e7dd7744-9394-46cb-973e-b5931809fc7d",
   "metadata": {},
   "source": [
    "# Dynamic typing in python"
   ]
  },
  {
   "cell_type": "code",
   "execution_count": 4,
   "id": "b5879773-557e-4e6a-9481-77f5aa91cce3",
   "metadata": {},
   "outputs": [
    {
     "data": {
      "text/plain": [
       "int"
      ]
     },
     "execution_count": 4,
     "metadata": {},
     "output_type": "execute_result"
    }
   ],
   "source": [
    "var = 5\n",
    "type(var) "
   ]
  },
  {
   "cell_type": "code",
   "execution_count": 5,
   "id": "047cf50a-539d-464b-857f-cbf79c4363d5",
   "metadata": {},
   "outputs": [
    {
     "data": {
      "text/plain": [
       "str"
      ]
     },
     "execution_count": 5,
     "metadata": {},
     "output_type": "execute_result"
    }
   ],
   "source": [
    "var = \"Good\"\n",
    "type (var)"
   ]
  },
  {
   "cell_type": "code",
   "execution_count": 6,
   "id": "3d6e2125-a886-4edf-a784-5db0cd2593c4",
   "metadata": {},
   "outputs": [],
   "source": [
    "# notice that python return the type of the last value that we assigned to var"
   ]
  },
  {
   "cell_type": "markdown",
   "id": "f78cbdd4-6ef7-4e79-816c-e8be9154de05",
   "metadata": {},
   "source": [
    "# Implicit coercion"
   ]
  },
  {
   "cell_type": "code",
   "execution_count": 7,
   "id": "9c50c595-f01d-4106-ba52-9f85e72357f6",
   "metadata": {},
   "outputs": [
    {
     "data": {
      "text/plain": [
       "float"
      ]
     },
     "execution_count": 7,
     "metadata": {},
     "output_type": "execute_result"
    }
   ],
   "source": [
    "a = 6\n",
    "b = 3.5555\n",
    "type (a+b)"
   ]
  },
  {
   "cell_type": "code",
   "execution_count": 8,
   "id": "b9952c67-74bc-4b23-9256-e6e8e7950063",
   "metadata": {},
   "outputs": [],
   "source": [
    "# it return a float cause one of the element in the sum is float"
   ]
  },
  {
   "cell_type": "markdown",
   "id": "92240383-0db0-482c-ba40-2b19d6e1524b",
   "metadata": {},
   "source": [
    "# Explicit coercion"
   ]
  },
  {
   "cell_type": "code",
   "execution_count": 9,
   "id": "d0ad24ba-2df1-4d02-a5b1-787522061984",
   "metadata": {},
   "outputs": [
    {
     "name": "stdout",
     "output_type": "stream",
     "text": [
      "6\n"
     ]
    }
   ],
   "source": [
    "n = 6.0125\n",
    "m = int(n)\n",
    "print(m)"
   ]
  },
  {
   "cell_type": "code",
   "execution_count": 69,
   "id": "e907dc46-f4d3-4fc5-b229-d07afc9f82dc",
   "metadata": {},
   "outputs": [
    {
     "name": "stdout",
     "output_type": "stream",
     "text": [
      "6.0125\n",
      "6.0125\n"
     ]
    }
   ],
   "source": [
    "example = str(n)\n",
    "print(n)\n",
    "print(example)"
   ]
  },
  {
   "cell_type": "code",
   "execution_count": 15,
   "id": "c37b3e21-01e9-40d8-834b-61fe1d86e5f4",
   "metadata": {},
   "outputs": [],
   "source": [
    "# the output look the same but actually it is not, the first one is a string and the second one is a float, so to be sure in the future :\n",
    "# alwayrs check the type before operation"
   ]
  },
  {
   "cell_type": "code",
   "execution_count": 70,
   "id": "eaf46e43-2810-475c-a14d-d5a0cf44505a",
   "metadata": {},
   "outputs": [
    {
     "name": "stdout",
     "output_type": "stream",
     "text": [
      "<class 'str'>\n",
      "<class 'float'>\n"
     ]
    }
   ],
   "source": [
    "print (type(example))\n",
    "print (type(n))"
   ]
  },
  {
   "cell_type": "markdown",
   "id": "e50a2d33-bba7-4c6e-9ee4-f2a65afc48eb",
   "metadata": {},
   "source": [
    "# converstion of str into float or int"
   ]
  },
  {
   "cell_type": "markdown",
   "id": "7667d7da-9045-49b5-98a9-23e08c1c16a5",
   "metadata": {},
   "source": [
    "### What happen when we convert \"int\" , \"float\" , \"char\" into int, float?"
   ]
  },
  {
   "cell_type": "code",
   "execution_count": 79,
   "id": "16f10282-74dd-4f3c-9cf3-9d2e188a2b01",
   "metadata": {},
   "outputs": [
    {
     "name": "stdout",
     "output_type": "stream",
     "text": [
      "522.0\n",
      "522\n"
     ]
    }
   ],
   "source": [
    "number_1 = \"522\"\n",
    "number1_float = float(number_1)\n",
    "number1_int = int(number_1)\n",
    "print(number1_float)\n",
    "print(number1_int)"
   ]
  },
  {
   "cell_type": "code",
   "execution_count": 86,
   "id": "79ff50a2-8359-4ba0-a180-c52af7af96e6",
   "metadata": {},
   "outputs": [
    {
     "name": "stdout",
     "output_type": "stream",
     "text": [
      "5.22\n"
     ]
    },
    {
     "ename": "ValueError",
     "evalue": "invalid literal for int() with base 10: '5.22'",
     "output_type": "error",
     "traceback": [
      "\u001b[31m---------------------------------------------------------------------------\u001b[39m",
      "\u001b[31mValueError\u001b[39m                                Traceback (most recent call last)",
      "\u001b[36mCell\u001b[39m\u001b[36m \u001b[39m\u001b[32mIn[86]\u001b[39m\u001b[32m, line 4\u001b[39m\n\u001b[32m      2\u001b[39m number2_float = \u001b[38;5;28mfloat\u001b[39m(number_2)\n\u001b[32m      3\u001b[39m \u001b[38;5;28mprint\u001b[39m(number2_float)\n\u001b[32m----> \u001b[39m\u001b[32m4\u001b[39m number2_int = \u001b[38;5;28;43mint\u001b[39;49m\u001b[43m(\u001b[49m\u001b[43mnumber_2\u001b[49m\u001b[43m)\u001b[49m \u001b[38;5;66;03m# we got an error with \u001b[39;00m\n\u001b[32m      5\u001b[39m \u001b[38;5;28mprint\u001b[39m(number2_int)\n",
      "\u001b[31mValueError\u001b[39m: invalid literal for int() with base 10: '5.22'"
     ]
    }
   ],
   "source": [
    "number_2 = \"5.22\"\n",
    "number2_float = float(number_2)\n",
    "print(number2_float)\n",
    "number2_int = int(number_2) # we got an error with coverting into int\n",
    "print(number2_int)"
   ]
  },
  {
   "cell_type": "code",
   "execution_count": 4,
   "id": "a05c5d36-8a82-4d39-b1c1-30ba2339b46d",
   "metadata": {},
   "outputs": [
    {
     "ename": "ValueError",
     "evalue": "invalid literal for int() with base 10: 'kenny'",
     "output_type": "error",
     "traceback": [
      "\u001b[31m---------------------------------------------------------------------------\u001b[39m",
      "\u001b[31mValueError\u001b[39m                                Traceback (most recent call last)",
      "\u001b[36mCell\u001b[39m\u001b[36m \u001b[39m\u001b[32mIn[4]\u001b[39m\u001b[32m, line 2\u001b[39m\n\u001b[32m      1\u001b[39m char = \u001b[33m\"\u001b[39m\u001b[33mkenny\u001b[39m\u001b[33m\"\u001b[39m\n\u001b[32m----> \u001b[39m\u001b[32m2\u001b[39m char_int = \u001b[38;5;28;43mint\u001b[39;49m\u001b[43m \u001b[49m\u001b[43m(\u001b[49m\u001b[43mchar\u001b[49m\u001b[43m)\u001b[49m \u001b[38;5;66;03m# we got an error, we just can't convert character into int\u001b[39;00m\n\u001b[32m      3\u001b[39m char_float = \u001b[38;5;28mfloat\u001b[39m(char)\n",
      "\u001b[31mValueError\u001b[39m: invalid literal for int() with base 10: 'kenny'"
     ]
    }
   ],
   "source": [
    "char = \"kenny\"\n",
    "char_int = int (char) # we got an error, we just can't convert character into int\n",
    "char_float = float(char)"
   ]
  },
  {
   "cell_type": "markdown",
   "id": "6cd6ad95-9258-4db3-9447-1dc6115ad0c3",
   "metadata": {},
   "source": [
    "Conclusion :\n",
    "\n",
    "---\n",
    "* we can convert into int and float when the terms inside the quotation is an int\n",
    "* we can convert into float but not into int when the expression inside the quotation in a rational\n",
    "* we can't convert into int nor float if the expression inside the quotation is a character\n",
    "---"
   ]
  },
  {
   "cell_type": "markdown",
   "id": "1d4fbfc1-ff9e-457e-80af-0e1b35a6e700",
   "metadata": {},
   "source": [
    "### What happen when we convert an int into float or str?"
   ]
  },
  {
   "cell_type": "code",
   "execution_count": 91,
   "id": "67971db2-5579-44e5-a85e-0d9a9f433b54",
   "metadata": {},
   "outputs": [
    {
     "name": "stdout",
     "output_type": "stream",
     "text": [
      "78.0\n",
      "78\n"
     ]
    }
   ],
   "source": [
    "i = 78\n",
    "float_i = float(i)\n",
    "print(float_i)\n",
    "str_i = str(i)\n",
    "print(str_i)"
   ]
  },
  {
   "cell_type": "markdown",
   "id": "d290ab44-3255-43b9-831e-9d6d29d8bb76",
   "metadata": {},
   "source": [
    "Conclusion : \n",
    "\n",
    "---\n",
    "* Given a int, we can always convert it into float or str\n",
    "---"
   ]
  },
  {
   "cell_type": "markdown",
   "id": "b421c57e-a547-4f15-8107-b703455b91e9",
   "metadata": {},
   "source": [
    "### What happen when we convert a float into str or int?"
   ]
  },
  {
   "cell_type": "code",
   "execution_count": 88,
   "id": "eb879d0e-b6de-4b78-a403-4bed392fdb21",
   "metadata": {},
   "outputs": [
    {
     "name": "stdout",
     "output_type": "stream",
     "text": [
      "5\n",
      "5.22\n"
     ]
    }
   ],
   "source": [
    "fl = 5.22\n",
    "fl_int = int(fl)\n",
    "print(fl_int)\n",
    "fl_str = str(fl)\n",
    "print(fl_str)"
   ]
  },
  {
   "cell_type": "markdown",
   "id": "61585d52-4984-4623-8ce6-079bf47ff1c6",
   "metadata": {},
   "source": [
    "Conclusion : \n",
    "\n",
    "---\n",
    "* Given a float, we can always convert it into int or str\n",
    "---"
   ]
  },
  {
   "cell_type": "markdown",
   "id": "f26c1854-106e-4095-90d6-744a9c98b152",
   "metadata": {},
   "source": [
    "# 3 Methods associated with variable"
   ]
  },
  {
   "cell_type": "code",
   "execution_count": 25,
   "id": "a619c19c-09a5-41ae-a5be-39e51bbac5c1",
   "metadata": {},
   "outputs": [],
   "source": [
    "i = 3"
   ]
  },
  {
   "cell_type": "code",
   "execution_count": 7,
   "id": "ab494613-50a7-41e8-b226-b79d693cc419",
   "metadata": {},
   "outputs": [
    {
     "name": "stdout",
     "output_type": "stream",
     "text": [
      "['__abs__', '__add__', '__and__', '__bool__', '__ceil__', '__class__', '__delattr__', '__dir__', '__divmod__', '__doc__', '__eq__', '__float__', '__floor__', '__floordiv__', '__format__', '__ge__', '__getattribute__', '__getnewargs__', '__getstate__', '__gt__', '__hash__', '__index__', '__init__', '__init_subclass__', '__int__', '__invert__', '__le__', '__lshift__', '__lt__', '__mod__', '__mul__', '__ne__', '__neg__', '__new__', '__or__', '__pos__', '__pow__', '__radd__', '__rand__', '__rdivmod__', '__reduce__', '__reduce_ex__', '__repr__', '__rfloordiv__', '__rlshift__', '__rmod__', '__rmul__', '__ror__', '__round__', '__rpow__', '__rrshift__', '__rshift__', '__rsub__', '__rtruediv__', '__rxor__', '__setattr__', '__sizeof__', '__str__', '__sub__', '__subclasshook__', '__truediv__', '__trunc__', '__xor__', 'as_integer_ratio', 'bit_count', 'bit_length', 'conjugate', 'denominator', 'from_bytes', 'imag', 'is_integer', 'numerator', 'real', 'to_bytes']\n"
     ]
    }
   ],
   "source": [
    "print(dir(i))"
   ]
  },
  {
   "cell_type": "code",
   "execution_count": 18,
   "id": "2c2e9129-6d87-4046-8327-b02f57885b2d",
   "metadata": {},
   "outputs": [
    {
     "data": {
      "text/plain": [
       "True"
      ]
     },
     "execution_count": 18,
     "metadata": {},
     "output_type": "execute_result"
    }
   ],
   "source": [
    "i.is_integer() # return True if the variable is an integer"
   ]
  },
  {
   "cell_type": "code",
   "execution_count": 28,
   "id": "56c4583d-0013-4d54-9d93-c6eac4dd5369",
   "metadata": {},
   "outputs": [
    {
     "data": {
      "text/plain": [
       "1"
      ]
     },
     "execution_count": 28,
     "metadata": {},
     "output_type": "execute_result"
    }
   ],
   "source": [
    "i.denominator"
   ]
  },
  {
   "cell_type": "code",
   "execution_count": 29,
   "id": "7f4a9694-2e00-4cbe-94b3-921b2c6eedc6",
   "metadata": {},
   "outputs": [
    {
     "data": {
      "text/plain": [
       "3"
      ]
     },
     "execution_count": 29,
     "metadata": {},
     "output_type": "execute_result"
    }
   ],
   "source": [
    "i.real"
   ]
  },
  {
   "cell_type": "code",
   "execution_count": 31,
   "id": "881e60d3-7ba6-4247-a3ff-adbd5756d099",
   "metadata": {},
   "outputs": [
    {
     "name": "stdout",
     "output_type": "stream",
     "text": [
      "['__abs__', '__add__', '__bool__', '__ceil__', '__class__', '__delattr__', '__dir__', '__divmod__', '__doc__', '__eq__', '__float__', '__floor__', '__floordiv__', '__format__', '__ge__', '__getattribute__', '__getformat__', '__getnewargs__', '__getstate__', '__gt__', '__hash__', '__init__', '__init_subclass__', '__int__', '__le__', '__lt__', '__mod__', '__mul__', '__ne__', '__neg__', '__new__', '__pos__', '__pow__', '__radd__', '__rdivmod__', '__reduce__', '__reduce_ex__', '__repr__', '__rfloordiv__', '__rmod__', '__rmul__', '__round__', '__rpow__', '__rsub__', '__rtruediv__', '__setattr__', '__sizeof__', '__str__', '__sub__', '__subclasshook__', '__truediv__', '__trunc__', 'as_integer_ratio', 'conjugate', 'fromhex', 'hex', 'imag', 'is_integer', 'real']\n"
     ]
    }
   ],
   "source": [
    "f = 2.5\n",
    "print(dir(f))"
   ]
  },
  {
   "cell_type": "code",
   "execution_count": 32,
   "id": "ccf593cd-32e6-4bc0-ada1-58592f5cb75d",
   "metadata": {},
   "outputs": [
    {
     "data": {
      "text/plain": [
       "2.5"
      ]
     },
     "execution_count": 32,
     "metadata": {},
     "output_type": "execute_result"
    }
   ],
   "source": [
    "f.real"
   ]
  },
  {
   "cell_type": "code",
   "execution_count": 34,
   "id": "ef130983-8261-4636-bc31-b706be5d595a",
   "metadata": {},
   "outputs": [
    {
     "data": {
      "text/plain": [
       "(5, 2)"
      ]
     },
     "execution_count": 34,
     "metadata": {},
     "output_type": "execute_result"
    }
   ],
   "source": [
    "f.as_integer_ratio() # output a tuple of integer wich division output f"
   ]
  },
  {
   "cell_type": "code",
   "execution_count": 29,
   "id": "32c0b4ce-8058-42c4-9bcb-ca76dcd74b37",
   "metadata": {},
   "outputs": [
    {
     "name": "stdout",
     "output_type": "stream",
     "text": [
      "['__add__', '__class__', '__contains__', '__delattr__', '__dir__', '__doc__', '__eq__', '__format__', '__ge__', '__getattribute__', '__getitem__', '__getnewargs__', '__getstate__', '__gt__', '__hash__', '__init__', '__init_subclass__', '__iter__', '__le__', '__len__', '__lt__', '__mod__', '__mul__', '__ne__', '__new__', '__reduce__', '__reduce_ex__', '__repr__', '__rmod__', '__rmul__', '__setattr__', '__sizeof__', '__str__', '__subclasshook__', 'capitalize', 'casefold', 'center', 'count', 'encode', 'endswith', 'expandtabs', 'find', 'format', 'format_map', 'index', 'isalnum', 'isalpha', 'isascii', 'isdecimal', 'isdigit', 'isidentifier', 'islower', 'isnumeric', 'isprintable', 'isspace', 'istitle', 'isupper', 'join', 'ljust', 'lower', 'lstrip', 'maketrans', 'partition', 'removeprefix', 'removesuffix', 'replace', 'rfind', 'rindex', 'rjust', 'rpartition', 'rsplit', 'rstrip', 'split', 'splitlines', 'startswith', 'strip', 'swapcase', 'title', 'translate', 'upper', 'zfill']\n"
     ]
    }
   ],
   "source": [
    "string = \"name\"\n",
    "print(dir(string))"
   ]
  },
  {
   "cell_type": "code",
   "execution_count": 102,
   "id": "51fba563-a2a6-4bd1-a239-7f0e2bfd3242",
   "metadata": {},
   "outputs": [
    {
     "data": {
      "text/plain": [
       "'Name'"
      ]
     },
     "execution_count": 102,
     "metadata": {},
     "output_type": "execute_result"
    }
   ],
   "source": [
    "string.capitalize() # make the first character of my string upper case"
   ]
  },
  {
   "cell_type": "code",
   "execution_count": 107,
   "id": "e29d2152-5099-4677-822b-a7d4b93e2d66",
   "metadata": {},
   "outputs": [
    {
     "data": {
      "text/plain": [
       "False"
      ]
     },
     "execution_count": 107,
     "metadata": {},
     "output_type": "execute_result"
    }
   ],
   "source": [
    "string.isnumeric() #return yes when the expression inside the quotation is integer"
   ]
  },
  {
   "cell_type": "code",
   "execution_count": 114,
   "id": "f96ec203-6f2f-4608-8653-66043d174fbb",
   "metadata": {},
   "outputs": [
    {
     "data": {
      "text/plain": [
       "False"
      ]
     },
     "execution_count": 114,
     "metadata": {},
     "output_type": "execute_result"
    }
   ],
   "source": [
    "num = \"2,5\"\n",
    "num.isdecimal()"
   ]
  },
  {
   "cell_type": "code",
   "execution_count": 115,
   "id": "1a1ad63f-4f0e-4819-a10c-911da667e8d3",
   "metadata": {},
   "outputs": [
    {
     "name": "stdout",
     "output_type": "stream",
     "text": [
      "Help on built-in function isdecimal:\n",
      "\n",
      "isdecimal() method of builtins.str instance\n",
      "    Return True if the string is a decimal string, False otherwise.\n",
      "\n",
      "    A string is a decimal string if all characters in the string are decimal and\n",
      "    there is at least one character in the string.\n",
      "\n"
     ]
    }
   ],
   "source": [
    "help(num.isdecimal)"
   ]
  },
  {
   "cell_type": "markdown",
   "id": "24e2fc39-72a0-457c-93e6-f7c60a0d4cc5",
   "metadata": {},
   "source": [
    "# Arithmetic operations and input"
   ]
  },
  {
   "cell_type": "code",
   "execution_count": 95,
   "id": "99298dd9-a38d-48de-9083-7a1609e7e6f3",
   "metadata": {},
   "outputs": [
    {
     "name": "stdin",
     "output_type": "stream",
     "text": [
      "Enter an interger number :  5\n",
      "Enter another integer number :  7\n"
     ]
    },
    {
     "name": "stdout",
     "output_type": "stream",
     "text": [
      "The sum of the two numbers is :  12\n"
     ]
    }
   ],
   "source": [
    "a = input(\"Enter an interger number : \")\n",
    "b = input (\"Enter another integer number : \")\n",
    "sum = int(a) + int (b) # we need to always convert into int or float cause the type of an input is str by default, if the user input a float an we convert it into int, there will be an error\n",
    "print (\"The sum of the two numbers is : \", sum) "
   ]
  },
  {
   "cell_type": "code",
   "execution_count": 71,
   "id": "5198d997-57ff-4efc-9a2f-6fb59739273b",
   "metadata": {},
   "outputs": [
    {
     "name": "stdin",
     "output_type": "stream",
     "text": [
      "Enter your country:  Madagascar\n"
     ]
    },
    {
     "name": "stdout",
     "output_type": "stream",
     "text": [
      "You are fromMadagascar\n"
     ]
    }
   ],
   "source": [
    "country = input(\"Enter your country: \")\n",
    "print (\"You are from \" + country) # the type of country is str so we can concatenate str with \"+\""
   ]
  },
  {
   "cell_type": "markdown",
   "id": "bbffcb12-9fa3-4777-88c0-592a62324707",
   "metadata": {},
   "source": [
    "# Exercise : try  to swap bool_1 and bool_2 without swap use third variable or python swap"
   ]
  },
  {
   "cell_type": "code",
   "execution_count": 73,
   "id": "e42a2659-17dd-4706-a62e-539b916c4fe3",
   "metadata": {},
   "outputs": [],
   "source": [
    "bool_1 = True\n",
    "bool_2 = False"
   ]
  },
  {
   "cell_type": "code",
   "execution_count": 68,
   "id": "988ace64-936b-43dc-8cfe-ef47c40ca955",
   "metadata": {},
   "outputs": [
    {
     "name": "stdout",
     "output_type": "stream",
     "text": [
      "0 1\n"
     ]
    }
   ],
   "source": [
    "bool_1 = bool_1 + bool_2\n",
    "bool_2 = bool_1 - bool_2\n",
    "bool_1 = bool_1 - bool_2\n",
    "print(bool_1, bool_2)"
   ]
  },
  {
   "cell_type": "code",
   "execution_count": null,
   "id": "fa499be8-1cea-4381-bf45-c94bf1d9c592",
   "metadata": {},
   "outputs": [],
   "source": []
  }
 ],
 "metadata": {
  "kernelspec": {
   "display_name": "Python 3 (ipykernel)",
   "language": "python",
   "name": "python3"
  },
  "language_info": {
   "codemirror_mode": {
    "name": "ipython",
    "version": 3
   },
   "file_extension": ".py",
   "mimetype": "text/x-python",
   "name": "python",
   "nbconvert_exporter": "python",
   "pygments_lexer": "ipython3",
   "version": "3.13.7"
  }
 },
 "nbformat": 4,
 "nbformat_minor": 5
}
