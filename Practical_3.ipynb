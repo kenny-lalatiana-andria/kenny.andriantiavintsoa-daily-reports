{
 "cells": [
  {
   "cell_type": "markdown",
   "id": "d68c1dee",
   "metadata": {
    "id": "d68c1dee"
   },
   "source": [
    "# Practical_3: Iterable objects or Containers"
   ]
  },
  {
   "cell_type": "markdown",
   "id": "94478f82-ab75-4c47-bfa3-fb0db4ffbefb",
   "metadata": {
    "id": "bea983a3"
   },
   "source": [
    "---\n",
    "\n",
    "### Exercise 1:\n",
    "Create a list of integers from 1 to 10.\n",
    "\n",
    "```python\n",
    "# Exercise 1\n",
    "```"
   ]
  },
  {
   "cell_type": "code",
   "execution_count": 1,
   "id": "16a414b7-1927-46ec-a235-6eb093d724e2",
   "metadata": {},
   "outputs": [
    {
     "data": {
      "text/plain": [
       "[1, 2, 3, 4, 5, 6, 7, 8, 9, 10]"
      ]
     },
     "execution_count": 1,
     "metadata": {},
     "output_type": "execute_result"
    }
   ],
   "source": [
    "list(range(1,11))"
   ]
  },
  {
   "cell_type": "markdown",
   "id": "c83a3b36-b368-4585-8583-818a40e322fa",
   "metadata": {
    "id": "bea983a3"
   },
   "source": [
    "---\n",
    "\n",
    "### Exercise 2:\n",
    "Create a tuple containing the elements `\"apple\"`, `\"banana\"`, and `\"cherry\"`.\n",
    "\n",
    "```python\n",
    "# Exercise 2\n",
    "```"
   ]
  },
  {
   "cell_type": "code",
   "execution_count": 3,
   "id": "becab9bb-4218-4a32-9199-cbda40a57b84",
   "metadata": {},
   "outputs": [
    {
     "data": {
      "text/plain": [
       "tuple"
      ]
     },
     "execution_count": 3,
     "metadata": {},
     "output_type": "execute_result"
    }
   ],
   "source": [
    "fruit = (\"apple\",\"banana\",\"cherry\")\n",
    "type(fruit)"
   ]
  },
  {
   "cell_type": "markdown",
   "id": "1d237110-ebc2-4d77-ace7-e3dc26da6c31",
   "metadata": {
    "id": "bea983a3"
   },
   "source": [
    "---\n",
    "\n",
    "### Exercise 3:\n",
    "Convert the list `numbers = [10, 20, 30, 40]` into a tuple.\n",
    "\n",
    "```python\n",
    "# Exercise 3\n",
    "```"
   ]
  },
  {
   "cell_type": "code",
   "execution_count": 7,
   "id": "3b8c6385-496b-422a-994d-38452d0eb423",
   "metadata": {},
   "outputs": [
    {
     "data": {
      "text/plain": [
       "(10, 20, 30, 40)"
      ]
     },
     "execution_count": 7,
     "metadata": {},
     "output_type": "execute_result"
    }
   ],
   "source": [
    "numbers = [10,20,30,40]\n",
    "numbers = tuple(numbers)\n",
    "numbers"
   ]
  },
  {
   "cell_type": "markdown",
   "id": "6c7bea94-5406-4bb0-b0df-a6d8a8382df6",
   "metadata": {
    "id": "bea983a3"
   },
   "source": [
    "---\n",
    "\n",
    "### Exercise 4:\n",
    "Create a set containing the elements `1, 2, 3, 4, 5`.\n",
    "\n",
    "```python\n",
    "# Exercise 4\n",
    "```"
   ]
  },
  {
   "cell_type": "code",
   "execution_count": 9,
   "id": "ad1332b6-5255-42c4-ab12-24ce7e091cd1",
   "metadata": {},
   "outputs": [
    {
     "data": {
      "text/plain": [
       "set"
      ]
     },
     "execution_count": 9,
     "metadata": {},
     "output_type": "execute_result"
    }
   ],
   "source": [
    "set1 = {1,2,3,4,5}\n",
    "type(set1)"
   ]
  },
  {
   "cell_type": "markdown",
   "id": "fc825bd1-655b-4b05-ac0e-d1fba2432c31",
   "metadata": {
    "id": "bea983a3"
   },
   "source": [
    "---\n",
    "\n",
    "### Exercise 5:\n",
    "Create a dictionary `student` with the keys `\"name\"`, `\"age\"`, and `\"grade\"` and corresponding values `\"Alice\"`, `20`, and `\"A\"`.\n",
    "\n",
    "```python\n",
    "# Exercise 5\n",
    "```"
   ]
  },
  {
   "cell_type": "code",
   "execution_count": 12,
   "id": "7e4e5635-20f0-4aaa-8097-0a32f2fc260d",
   "metadata": {},
   "outputs": [
    {
     "data": {
      "text/plain": [
       "dict"
      ]
     },
     "execution_count": 12,
     "metadata": {},
     "output_type": "execute_result"
    }
   ],
   "source": [
    "student = {\"name\" : \"Alice\",\"age\":20,\"grade\":\"A\"}\n",
    "type(student)"
   ]
  },
  {
   "cell_type": "markdown",
   "id": "6ec2caf4-5a66-48d3-93a7-8f4d131b0c25",
   "metadata": {
    "id": "bea983a3"
   },
   "source": [
    "---\n",
    "\n",
    "### Exercise 6:\n",
    "Access the second element of the list `[10, 20, 30, 40, 50]` using indexing.\n",
    "\n",
    "```python\n",
    "# Exercise 6\n",
    "```"
   ]
  },
  {
   "cell_type": "code",
   "execution_count": 13,
   "id": "c9ea6a80-dd18-499a-8d73-7391aea5ad98",
   "metadata": {},
   "outputs": [
    {
     "data": {
      "text/plain": [
       "20"
      ]
     },
     "execution_count": 13,
     "metadata": {},
     "output_type": "execute_result"
    }
   ],
   "source": [
    "list1 = [10,20,30,40,50]\n",
    "list1[1]"
   ]
  },
  {
   "cell_type": "markdown",
   "id": "9bf41fda-4055-4aba-8ea2-bdbbc923d88f",
   "metadata": {
    "id": "bea983a3"
   },
   "source": [
    "---\n",
    "\n",
    "### Exercise 7:\n",
    "Change the third element of the list `fruits = [\"apple\", \"banana\", \"cherry\", \"orange\"]` to `\"mango\"`.\n",
    "\n",
    "```python\n",
    "# Exercise 7\n",
    "```"
   ]
  },
  {
   "cell_type": "code",
   "execution_count": 14,
   "id": "b441f1b0-b3be-4a33-91c7-cdcc761a7308",
   "metadata": {},
   "outputs": [
    {
     "data": {
      "text/plain": [
       "['apple', 'banana', 'mango', 'orange']"
      ]
     },
     "execution_count": 14,
     "metadata": {},
     "output_type": "execute_result"
    }
   ],
   "source": [
    "fruits = [\"apple\",\"banana\",\"cherry\",\"orange\"]\n",
    "fruits[2]= \"mango\"\n",
    "fruits"
   ]
  },
  {
   "cell_type": "markdown",
   "id": "f0e889db-2dcd-4eb2-9ffc-75a02268b362",
   "metadata": {
    "id": "bea983a3"
   },
   "source": [
    "---\n",
    "\n",
    "### Exercise 8:\n",
    "Add the number `6` to the set `numbers = {1, 2, 3, 4, 5}`.\n",
    "\n",
    "```python\n",
    "# Exercise 8\n",
    "```"
   ]
  },
  {
   "cell_type": "code",
   "execution_count": 17,
   "id": "7fd3b0d3-cd4e-4484-99b9-209d0e6fdb63",
   "metadata": {},
   "outputs": [
    {
     "data": {
      "text/plain": [
       "{1, 2, 3, 4, 5, 6}"
      ]
     },
     "execution_count": 17,
     "metadata": {},
     "output_type": "execute_result"
    }
   ],
   "source": [
    "numbers = {1,2,3,4,5}\n",
    "numbers.add(6)\n",
    "numbers"
   ]
  },
  {
   "cell_type": "markdown",
   "id": "671ce52d-4321-440f-92b5-c82beb6299dc",
   "metadata": {
    "id": "bea983a3"
   },
   "source": [
    "---\n",
    "\n",
    "### Exercise 9:\n",
    "Remove the key `\"age\"` from the dictionary `person = {\"name\": \"John\", \"age\": 25, \"city\": \"New York\"}`.\n",
    "\n",
    "```python\n",
    "# Exercise 9\n",
    "```"
   ]
  },
  {
   "cell_type": "code",
   "execution_count": 19,
   "id": "779f09ae-ef56-45ac-b37a-08e38ee23429",
   "metadata": {},
   "outputs": [
    {
     "data": {
      "text/plain": [
       "{'name': 'John', 'city': 'New York'}"
      ]
     },
     "execution_count": 19,
     "metadata": {},
     "output_type": "execute_result"
    }
   ],
   "source": [
    "person = {\"name\": \"John\", \"age\": 25, \"city\": \"New York\"}\n",
    "person.pop(\"age\")\n",
    "person"
   ]
  },
  {
   "cell_type": "markdown",
   "id": "095864ab-0be0-4159-abc2-ad062e81f0b1",
   "metadata": {
    "id": "bea983a3"
   },
   "source": [
    "---\n",
    "\n",
    "### Exercise 10:\n",
    "Create a range object starting from 0 to 9.\n",
    "\n",
    "```python\n",
    "# Exercise 10\n",
    "```"
   ]
  },
  {
   "cell_type": "code",
   "execution_count": 23,
   "id": "fd66121f-401f-49dd-9115-3521c197d325",
   "metadata": {},
   "outputs": [
    {
     "data": {
      "text/plain": [
       "range"
      ]
     },
     "execution_count": 23,
     "metadata": {},
     "output_type": "execute_result"
    }
   ],
   "source": [
    "x = range(0,9)\n",
    "type(x)"
   ]
  },
  {
   "cell_type": "markdown",
   "id": "3b9b3b15-2c66-436e-9693-c5f826cf7b9e",
   "metadata": {
    "id": "bea983a3"
   },
   "source": [
    "---\n",
    "\n",
    "### Exercise 11:\n",
    "Use a list comprehension to create a list of squares of numbers from 1 to 10.\n",
    "\n",
    "```python\n",
    "# Exercise 11\n",
    "```"
   ]
  },
  {
   "cell_type": "code",
   "execution_count": 26,
   "id": "e05f28c6-60f2-4522-8d4b-d6a3e02e97f4",
   "metadata": {},
   "outputs": [
    {
     "data": {
      "text/plain": [
       "[1, 4, 9, 16, 25, 36, 49, 64, 81, 100]"
      ]
     },
     "execution_count": 26,
     "metadata": {},
     "output_type": "execute_result"
    }
   ],
   "source": [
    "squares = [i**2 for i in range(1,11)]\n",
    "squares"
   ]
  },
  {
   "cell_type": "markdown",
   "id": "5201be72-a6ae-4c22-add7-880e325936bd",
   "metadata": {
    "id": "bea983a3"
   },
   "source": [
    "---\n",
    "\n",
    "### Exercise 12:\n",
    "Create a tuple of even numbers between 2 and 10 using a tuple comprehension.\n",
    "\n",
    "```python\n",
    "# Exercise 12\n",
    "```"
   ]
  },
  {
   "cell_type": "code",
   "execution_count": 51,
   "id": "58592a30-f60b-4887-b3e3-fac469338ab8",
   "metadata": {},
   "outputs": [
    {
     "data": {
      "text/plain": [
       "(2, 4, 6, 8, 10)"
      ]
     },
     "execution_count": 51,
     "metadata": {},
     "output_type": "execute_result"
    }
   ],
   "source": [
    "even = tuple(2*i for i in range(1,6))\n",
    "even"
   ]
  },
  {
   "cell_type": "markdown",
   "id": "9a5ad549-3536-4b40-bbf8-88e2fbd5dd28",
   "metadata": {
    "id": "bea983a3"
   },
   "source": [
    "---\n",
    "\n",
    "### Exercise 13:\n",
    "Use a for loop to iterate through the list `fruits = [\"apple\", \"banana\", \"cherry\"]` and print each element.\n",
    "\n",
    "```python\n",
    "# Exercise 13\n",
    "```"
   ]
  },
  {
   "cell_type": "code",
   "execution_count": 44,
   "id": "ca461574-51a1-4249-bce1-3456eeccc431",
   "metadata": {},
   "outputs": [
    {
     "name": "stdout",
     "output_type": "stream",
     "text": [
      "apple\n",
      "banana\n",
      "orange\n"
     ]
    }
   ],
   "source": [
    "for element in fruits :\n",
    "    print(element)"
   ]
  },
  {
   "cell_type": "markdown",
   "id": "6532de99-6cd6-4124-8b31-b736f02893c9",
   "metadata": {
    "id": "bea983a3"
   },
   "source": [
    "---\n",
    "\n",
    "### Exercise 14:\n",
    "Check if the value `3` exists in the set `numbers = {1, 2, 3, 4, 5}`.\n",
    "\n",
    "```python\n",
    "# Exercise 14\n",
    "```"
   ]
  },
  {
   "cell_type": "code",
   "execution_count": 46,
   "id": "9687c81e-9b76-4ac7-889f-11573af7b2fd",
   "metadata": {},
   "outputs": [
    {
     "data": {
      "text/plain": [
       "True"
      ]
     },
     "execution_count": 46,
     "metadata": {},
     "output_type": "execute_result"
    }
   ],
   "source": [
    "3 in numbers"
   ]
  },
  {
   "cell_type": "markdown",
   "id": "9ae84629-0b66-48f2-ac8c-1f6682a2d789",
   "metadata": {
    "id": "bea983a3"
   },
   "source": [
    "---\n",
    "\n",
    "### Exercise 15:\n",
    "Use the `len()` function to find the length of the tuple `numbers = (10, 20, 30)`.\n",
    "\n",
    "```python\n",
    "# Exercise 15\n",
    "```"
   ]
  },
  {
   "cell_type": "code",
   "execution_count": 47,
   "id": "8d6726d4-20b5-4390-9f42-361f333b0df3",
   "metadata": {},
   "outputs": [
    {
     "data": {
      "text/plain": [
       "3"
      ]
     },
     "execution_count": 47,
     "metadata": {},
     "output_type": "execute_result"
    }
   ],
   "source": [
    "numbers = (10,20,30)\n",
    "len(numbers)"
   ]
  },
  {
   "cell_type": "markdown",
   "id": "1effb0c7-be5d-47ea-a1d6-fbf25fbc9aa7",
   "metadata": {
    "id": "bea983a3"
   },
   "source": [
    "---\n",
    "\n",
    "### Exercise 16:\n",
    "Add the value `100` at the end of the list `scores = [80, 85, 90, 95]`.\n",
    "\n",
    "```python\n",
    "# Exercise 16\n",
    "```"
   ]
  },
  {
   "cell_type": "code",
   "execution_count": 49,
   "id": "c8be92f4-b759-4126-8b44-b6bb0f7ffef8",
   "metadata": {},
   "outputs": [
    {
     "data": {
      "text/plain": [
       "[80, 85, 90, 95, 100]"
      ]
     },
     "execution_count": 49,
     "metadata": {},
     "output_type": "execute_result"
    }
   ],
   "source": [
    "scores = [80,85,90,95]\n",
    "scores.append(100)\n",
    "scores"
   ]
  },
  {
   "cell_type": "markdown",
   "id": "d40c9edb-0f25-439e-a0b4-a7f38b6a8157",
   "metadata": {
    "id": "bea983a3"
   },
   "source": [
    "---\n",
    "\n",
    "### Exercise 17:\n",
    "Write a function that takes a list as input and returns the sum of all elements in the list.\n",
    "\n",
    "```python\n",
    "# Exercise 17\n",
    "```"
   ]
  },
  {
   "cell_type": "code",
   "execution_count": 53,
   "id": "8d187c2f-022d-42dc-978f-632e3b7b603d",
   "metadata": {},
   "outputs": [],
   "source": [
    "def sum_list(l):\n",
    "    \"\"\"\n",
    "    This function sum the value of a given list.\n",
    "    Input : The list to sum.\n",
    "    Ouptut : The sum of the list\n",
    "    \"\"\"\n",
    "    return sum(l)"
   ]
  },
  {
   "cell_type": "code",
   "execution_count": 54,
   "id": "6e7db03e-0903-4e61-a594-602aa41ec381",
   "metadata": {},
   "outputs": [
    {
     "data": {
      "text/plain": [
       "60"
      ]
     },
     "execution_count": 54,
     "metadata": {},
     "output_type": "execute_result"
    }
   ],
   "source": [
    "sum_list(numbers)"
   ]
  },
  {
   "cell_type": "markdown",
   "id": "02f9212a-722c-400b-8f1c-3b1612631e7c",
   "metadata": {
    "id": "bea983a3"
   },
   "source": [
    "---\n",
    "\n",
    "### Exercise 18:\n",
    "Create a set containing the unique elements of the list `numbers = [1, 2, 2, 3, 4, 4, 5]`.\n",
    "\n",
    "```python\n",
    "# Exercise 18\n",
    "```"
   ]
  },
  {
   "cell_type": "code",
   "execution_count": 55,
   "id": "49063092-03eb-4573-9f50-590368f6ce69",
   "metadata": {},
   "outputs": [
    {
     "data": {
      "text/plain": [
       "{1, 2, 3, 4, 5}"
      ]
     },
     "execution_count": 55,
     "metadata": {},
     "output_type": "execute_result"
    }
   ],
   "source": [
    "numbers = [1,2,2,3,4,4,5]\n",
    "set_n = set(numbers)\n",
    "set_n"
   ]
  },
  {
   "cell_type": "markdown",
   "id": "53b5bbf5-d77f-476c-80b0-32c3ef878f2b",
   "metadata": {
    "id": "bea983a3"
   },
   "source": [
    "---\n",
    "\n",
    "### Exercise 19:\n",
    "Convert the string `\"hello\"` into a list of characters.\n",
    "\n",
    "```python\n",
    "# Exercise 19\n",
    "```"
   ]
  },
  {
   "cell_type": "code",
   "execution_count": 56,
   "id": "46b538b0-3e11-466b-90e4-f3633f696d5b",
   "metadata": {},
   "outputs": [
    {
     "data": {
      "text/plain": [
       "['h', 'e', 'l', 'l', 'o']"
      ]
     },
     "execution_count": 56,
     "metadata": {},
     "output_type": "execute_result"
    }
   ],
   "source": [
    "hello = list(\"hello\")\n",
    "hello"
   ]
  },
  {
   "cell_type": "markdown",
   "id": "d6207893-ab61-4ee0-a651-f2714325e7b5",
   "metadata": {
    "id": "bea983a3"
   },
   "source": [
    "---\n",
    "\n",
    "### Exercise 20:\n",
    "Write a Python function that reverses a tuple `(1, 2, 3, 4)`.\n",
    "\n",
    "```python\n",
    "# Exercise 20\n",
    "```"
   ]
  },
  {
   "cell_type": "code",
   "execution_count": 60,
   "id": "79a990c4-611b-4184-a158-338df4341b5e",
   "metadata": {},
   "outputs": [],
   "source": [
    "def tuple_reverse(t):\n",
    "    \"\"\"\n",
    "    This function reverse the order of a given tuple.\n",
    "    Input : Tuple to reverse.\n",
    "    Output : The reverse of the given tuple\n",
    "    \"\"\"\n",
    "    return t[::-1]"
   ]
  },
  {
   "cell_type": "code",
   "execution_count": 61,
   "id": "aa5eefe1-0199-44c7-a103-42945927e1c8",
   "metadata": {},
   "outputs": [
    {
     "data": {
      "text/plain": [
       "(4, 3, 2, 1)"
      ]
     },
     "execution_count": 61,
     "metadata": {},
     "output_type": "execute_result"
    }
   ],
   "source": [
    "tuple_reverse((1,2,3,4))"
   ]
  },
  {
   "cell_type": "markdown",
   "id": "53486011-9d82-49da-9d22-634cbb99c5ad",
   "metadata": {
    "id": "bea983a3"
   },
   "source": [
    "---\n",
    "\n",
    "### Exercise 21:\n",
    "Merge two dictionaries `dict1 = {\"a\": 1, \"b\": 2}` and `dict2 = {\"c\": 3, \"d\": 4}` into a single dictionary.\n",
    "\n",
    "```python\n",
    "# Exercise 21\n",
    "```"
   ]
  },
  {
   "cell_type": "code",
   "execution_count": 67,
   "id": "249bab6e-53ed-4d2d-9b05-1ea344de6130",
   "metadata": {},
   "outputs": [
    {
     "data": {
      "text/plain": [
       "{'a': 1, 'b': 2, 'c': 3, 'd': 4}"
      ]
     },
     "execution_count": 67,
     "metadata": {},
     "output_type": "execute_result"
    }
   ],
   "source": [
    "dict1 = {\"a\":1,\"b\":2}\n",
    "dict2 = {\"c\":3,\"d\":4}\n",
    "dict1.update(dict2)\n",
    "dict1"
   ]
  },
  {
   "cell_type": "markdown",
   "id": "1ad05695-c6f7-4f7e-b5c7-65ddf50c2c10",
   "metadata": {
    "id": "bea983a3"
   },
   "source": [
    "---\n",
    "\n",
    "### Exercise 22:\n",
    "Create a dictionary where keys are numbers from 1 to 5, and values are their squares.\n",
    "\n",
    "```python\n",
    "# Exercise 22\n",
    "```"
   ]
  },
  {
   "cell_type": "code",
   "execution_count": 84,
   "id": "ad9fe55b-1fd3-4ca8-9a65-04b8c6969438",
   "metadata": {},
   "outputs": [
    {
     "data": {
      "text/plain": [
       "{1: 1, 2: 4, 3: 9, 4: 16, 5: 25}"
      ]
     },
     "execution_count": 84,
     "metadata": {},
     "output_type": "execute_result"
    }
   ],
   "source": [
    "squares = {i:i**2 for i in range(1,6)}\n",
    "squares"
   ]
  },
  {
   "cell_type": "markdown",
   "id": "3c375b14-ee9b-4f50-bb65-9dc4bd3c6396",
   "metadata": {
    "id": "bea983a3"
   },
   "source": [
    "---\n",
    "\n",
    "### Exercise 23:\n",
    "Write a Python program to iterate through a dictionary and print each key-value pair.\n",
    "\n",
    "```python\n",
    "# Exercise 23\n",
    "```"
   ]
  },
  {
   "cell_type": "code",
   "execution_count": 90,
   "id": "972a1bd6-606d-4c5a-92bc-fe78ae382a14",
   "metadata": {},
   "outputs": [
    {
     "name": "stdout",
     "output_type": "stream",
     "text": [
      "a : 2\n",
      "b : 4\n"
     ]
    }
   ],
   "source": [
    "dict1={\"a\":2,\"b\":4}\n",
    "for key in dict1.keys():\n",
    "    print(f\"{key} : {dict1[key]}\")"
   ]
  },
  {
   "cell_type": "markdown",
   "id": "73ad7509-6d44-4b1a-97f3-f37e5245fb47",
   "metadata": {
    "id": "bea983a3"
   },
   "source": [
    "---\n",
    "\n",
    "### Exercise 24:\n",
    "Create a list of the first 5 letters of the alphabet using the `chr()` function.\n",
    "\n",
    "```python\n",
    "# Exercise 24\n",
    "```"
   ]
  },
  {
   "cell_type": "code",
   "execution_count": 94,
   "id": "51233174-3a3d-448d-a866-dc0934eec5c9",
   "metadata": {},
   "outputs": [
    {
     "name": "stdout",
     "output_type": "stream",
     "text": [
      "Help on built-in function chr in module builtins:\n",
      "\n",
      "chr(i, /)\n",
      "    Return a Unicode string of one character with ordinal i; 0 <= i <= 0x10ffff.\n",
      "\n"
     ]
    }
   ],
   "source": [
    "help(chr)"
   ]
  },
  {
   "cell_type": "code",
   "execution_count": 96,
   "id": "3042baec-a41c-4abf-af47-8188a51d7f18",
   "metadata": {},
   "outputs": [
    {
     "data": {
      "text/plain": [
       "['a', 'b', 'c', 'd', 'e']"
      ]
     },
     "execution_count": 96,
     "metadata": {},
     "output_type": "execute_result"
    }
   ],
   "source": [
    "alpha = [chr(i) for i in range(97,102)]\n",
    "alpha"
   ]
  },
  {
   "cell_type": "markdown",
   "id": "b3b96628-6e71-4fcf-a1fd-69e0a32f5543",
   "metadata": {
    "id": "bea983a3"
   },
   "source": [
    "### Exercise 25:\n",
    "Use the `zip()` function to combine two lists `[1, 2, 3]` and `[\"a\", \"b\", \"c\"]` into a list of tuples.\n",
    "\n",
    "```python\n",
    "# Exercise 25\n",
    "```"
   ]
  },
  {
   "cell_type": "code",
   "execution_count": 105,
   "id": "7e184e56-5104-4183-bf2f-bfcbf9176d40",
   "metadata": {},
   "outputs": [
    {
     "data": {
      "text/plain": [
       "[(1, 'a'), (2, 'b'), (3, 'c')]"
      ]
     },
     "execution_count": 105,
     "metadata": {},
     "output_type": "execute_result"
    }
   ],
   "source": [
    "list2 = [1,2,3]\n",
    "list3 = [\"a\",\"b\",\"c\"]\n",
    "zipped = list(zip(list2,list3))\n",
    "zipped"
   ]
  },
  {
   "cell_type": "markdown",
   "id": "d157579f-b96c-4506-94e7-61195345510c",
   "metadata": {
    "id": "bea983a3"
   },
   "source": [
    "---\n",
    "\n",
    "### Exercise 26:\n",
    "Find the index of the value `50` in the list `[10, 20, 30, 40, 50]`.\n",
    "\n",
    "```python\n",
    "# Exercise 26\n",
    "```"
   ]
  },
  {
   "cell_type": "code",
   "execution_count": 107,
   "id": "51ef3292-64f9-4a74-a41d-5260cea731d5",
   "metadata": {},
   "outputs": [
    {
     "data": {
      "text/plain": [
       "4"
      ]
     },
     "execution_count": 107,
     "metadata": {},
     "output_type": "execute_result"
    }
   ],
   "source": [
    "list1.index(50)"
   ]
  },
  {
   "cell_type": "markdown",
   "id": "1dad7b78-80fc-4534-84b4-fec1febc9fe6",
   "metadata": {
    "id": "bea983a3"
   },
   "source": [
    "---\n",
    "\n",
    "### Exercise 27:\n",
    "Sort the list `names = [\"Alice\", \"Bob\", \"Charlie\", \"David\"]` in alphabetical order.\n",
    "\n",
    "```python\n",
    "# Exercise 27\n",
    "```"
   ]
  },
  {
   "cell_type": "code",
   "execution_count": 109,
   "id": "b8bb7de1-ac35-45f3-9125-69fdb1088d44",
   "metadata": {},
   "outputs": [
    {
     "data": {
      "text/plain": [
       "['Alice', 'Bob', 'Charlie', 'David']"
      ]
     },
     "execution_count": 109,
     "metadata": {},
     "output_type": "execute_result"
    }
   ],
   "source": [
    "names = [\"Alice\",\"Bob\",\"Charlie\",\"David\"]\n",
    "names.sort()\n",
    "names"
   ]
  },
  {
   "cell_type": "markdown",
   "id": "6647e9d7-943d-4468-8400-ef89b8c2226f",
   "metadata": {
    "id": "bea983a3"
   },
   "source": [
    "---\n",
    "\n",
    "### Exercise 28:\n",
    "Write a Python function that takes a list of integers as input and returns the largest number.\n",
    "\n",
    "```python\n",
    "# Exercise 28\n",
    "```"
   ]
  },
  {
   "cell_type": "code",
   "execution_count": 110,
   "id": "ad1a903c-68b9-4c22-987b-5e78dc35f0a8",
   "metadata": {},
   "outputs": [],
   "source": [
    "def max_list(l):\n",
    "    \"\"\"\n",
    "    This function output the  maximum value of a given list of numbers.\n",
    "    Input : A list.\n",
    "    Output : The largerst number of the given list.\n",
    "    \"\"\"\n",
    "    return max(l)"
   ]
  },
  {
   "cell_type": "code",
   "execution_count": 111,
   "id": "d0de0057-36f8-4783-9d10-8d143cae34e1",
   "metadata": {},
   "outputs": [
    {
     "data": {
      "text/plain": [
       "50"
      ]
     },
     "execution_count": 111,
     "metadata": {},
     "output_type": "execute_result"
    }
   ],
   "source": [
    "max_list(list1)"
   ]
  },
  {
   "cell_type": "markdown",
   "id": "f5f5dbf9-d14c-46c3-8836-7e986bcce8de",
   "metadata": {
    "id": "bea983a3"
   },
   "source": [
    "---\n",
    "\n",
    "### Exercise 29:\n",
    "Use the `count()` method to count how many times `\"apple\"` appears in the list `fruits = [\"apple\", \"banana\", \"apple\", \"orange\"]`.\n",
    "\n",
    "```python\n",
    "# Exercise 29\n",
    "```"
   ]
  },
  {
   "cell_type": "code",
   "execution_count": 115,
   "id": "db2d4938-6e32-4639-ab0e-0ca2555d68a6",
   "metadata": {},
   "outputs": [
    {
     "data": {
      "text/plain": [
       "2"
      ]
     },
     "execution_count": 115,
     "metadata": {},
     "output_type": "execute_result"
    }
   ],
   "source": [
    "fruits= [\"apple\", \"banana\", \"apple\", \"orange\"]\n",
    "fruits.count(\"apple\")"
   ]
  },
  {
   "cell_type": "markdown",
   "id": "1bf96e77-b549-47a6-9dfb-d4a6abf04d7e",
   "metadata": {
    "id": "bea983a3"
   },
   "source": [
    "---\n",
    "\n",
    "### Exercise 30:\n",
    "Create a dictionary `person` where keys are `\"name\"`, `\"age\"`, and `\"city\"`, and values are `\"Alice\"`, `25`, and `\"New York\"` respectively. Then access the value of the `\"city\"` key.\n",
    "\n",
    "```python\n",
    "# Exercise 30\n",
    "```"
   ]
  },
  {
   "cell_type": "code",
   "execution_count": 117,
   "id": "230c6620-4024-416d-b6e0-a234e4756941",
   "metadata": {},
   "outputs": [
    {
     "data": {
      "text/plain": [
       "'New York'"
      ]
     },
     "execution_count": 117,
     "metadata": {},
     "output_type": "execute_result"
    }
   ],
   "source": [
    "person = {\"name\":\"Alice\",\"age\":25,\"city\":\"New York\"}\n",
    "person[\"city\"]"
   ]
  },
  {
   "cell_type": "markdown",
   "id": "889f188b-fedb-4bee-91a2-7cadf2b9fe41",
   "metadata": {
    "id": "bea983a3"
   },
   "source": [
    "---\n",
    "\n",
    "### Exercise 31:\n",
    "Write a Python script that takes a list as input and returns a new list with all duplicates removed.\n",
    "\n",
    "```python\n",
    "# Exercise 31\n",
    "```"
   ]
  },
  {
   "cell_type": "code",
   "execution_count": 126,
   "id": "c064ad37-d998-435a-9025-bb17d69a6f25",
   "metadata": {},
   "outputs": [],
   "source": [
    "def remove_duplicate(l):\n",
    "    \"\"\"\n",
    "    This function remove the duplicated value of a given list.\n",
    "    Input : A list.\n",
    "    Ouptup : The inputed list without duplicated value\n",
    "    \"\"\"\n",
    "    return list(set(l))"
   ]
  },
  {
   "cell_type": "code",
   "execution_count": 127,
   "id": "91a0883a-6bfa-497f-b7c7-639851761414",
   "metadata": {},
   "outputs": [
    {
     "data": {
      "text/plain": [
       "[1, 2, 3, 4, 5]"
      ]
     },
     "execution_count": 127,
     "metadata": {},
     "output_type": "execute_result"
    }
   ],
   "source": [
    "remove_duplicate(numbers)"
   ]
  },
  {
   "cell_type": "code",
   "execution_count": 129,
   "id": "50d683c4-0b6a-4602-b887-c359284acf51",
   "metadata": {},
   "outputs": [
    {
     "name": "stdout",
     "output_type": "stream",
     "text": [
      "['apple', 'banana', 'apple', 'orange']\n"
     ]
    },
    {
     "data": {
      "text/plain": [
       "['orange', 'apple', 'banana']"
      ]
     },
     "execution_count": 129,
     "metadata": {},
     "output_type": "execute_result"
    }
   ],
   "source": [
    "print(fruits)\n",
    "remove_duplicate(fruits)"
   ]
  },
  {
   "cell_type": "markdown",
   "id": "6e50e149-a841-4231-a705-981e12ae28d7",
   "metadata": {
    "id": "bea983a3"
   },
   "source": [
    "---\n",
    "\n",
    "### Exercise 32:\n",
    "Write a Python function that takes two lists and returns their intersection.\n",
    "\n",
    "```python\n",
    "# Exercise 32\n",
    "```"
   ]
  },
  {
   "cell_type": "code",
   "execution_count": 137,
   "id": "7c1c3196-5df5-4325-bd0d-453c291d80eb",
   "metadata": {},
   "outputs": [],
   "source": [
    "def list_intersection(L,l):\n",
    "    \"\"\"\n",
    "    This function take two lists and return their intersection.\n",
    "    Inputs : Take two lists L and l.\n",
    "    Outputs: Return the values that are in L and l.\n",
    "    \"\"\"\n",
    "    return [element for element in L if element in l]"
   ]
  },
  {
   "cell_type": "code",
   "execution_count": 138,
   "id": "cca4f6ed-f3cc-466c-ba64-bb29fddb56bd",
   "metadata": {},
   "outputs": [
    {
     "data": {
      "text/plain": [
       "[2, 'banane']"
      ]
     },
     "execution_count": 138,
     "metadata": {},
     "output_type": "execute_result"
    }
   ],
   "source": [
    "list_intersection([1,2,3,\"banane\"],[\"banane\",2])"
   ]
  },
  {
   "cell_type": "markdown",
   "id": "cce90b6b-b340-44cd-8d5d-86d71503b0a1",
   "metadata": {
    "id": "bea983a3"
   },
   "source": [
    "---\n",
    "\n",
    "### Exercise 33:\n",
    "Create a generator that yields the squares of numbers from 1 to 10.\n",
    "\n",
    "```python\n",
    "# Exercise 33\n",
    "```"
   ]
  },
  {
   "cell_type": "code",
   "execution_count": 147,
   "id": "d25c346a-306f-4033-9d20-adbba93b38df",
   "metadata": {},
   "outputs": [
    {
     "name": "stdout",
     "output_type": "stream",
     "text": [
      "0\n",
      "1\n",
      "4\n",
      "9\n",
      "16\n",
      "25\n",
      "36\n",
      "49\n",
      "64\n",
      "81\n",
      "100\n"
     ]
    },
    {
     "data": {
      "text/plain": [
       "generator"
      ]
     },
     "execution_count": 147,
     "metadata": {},
     "output_type": "execute_result"
    }
   ],
   "source": [
    "def square_up_to_ten():\n",
    "    for i in range(11):\n",
    "        yield i**2 \n",
    "a=square_up_to_ten()\n",
    "for i in range (11):\n",
    "    print(next(a))\n",
    "type(a)"
   ]
  },
  {
   "cell_type": "markdown",
   "id": "1da55051-6592-4028-a646-b31a3d25df1f",
   "metadata": {
    "id": "bea983a3"
   },
   "source": [
    "---\n",
    "\n",
    "### Exercise 34:\n",
    "Write a Python script that takes a dictionary as input and returns the sum of all its values.\n",
    "\n",
    "```python\n",
    "# Exercise 34\n",
    "```"
   ]
  },
  {
   "cell_type": "code",
   "execution_count": 153,
   "id": "fa707bef-d61a-4129-bcb1-0840d4b3841a",
   "metadata": {},
   "outputs": [],
   "source": [
    "def sum_dict(d):\n",
    "    \"\"\"\n",
    "    This function gives the sum of values of a dictionnary.\n",
    "    Input : A dictionnary\n",
    "    Output : The sum of the value of it\n",
    "    \"\"\"\n",
    "    return sum(d.values())"
   ]
  },
  {
   "cell_type": "code",
   "execution_count": 155,
   "id": "890bbdbf-f05b-41d2-bccd-09d1c971c538",
   "metadata": {},
   "outputs": [
    {
     "data": {
      "text/plain": [
       "6"
      ]
     },
     "execution_count": 155,
     "metadata": {},
     "output_type": "execute_result"
    }
   ],
   "source": [
    "sum_dict(dict1)"
   ]
  },
  {
   "cell_type": "markdown",
   "id": "74f7092f-5bca-473f-ac07-b47305e7de77",
   "metadata": {
    "id": "bea983a3"
   },
   "source": [
    "---\n",
    "\n",
    "### Exercise 35:\n",
    "Use the `sorted()` function to sort the list `[3, 1, 4, 1, 5, 9]` in ascending order.\n",
    "\n",
    "```python\n",
    "# Exercise 35\n",
    "```"
   ]
  },
  {
   "cell_type": "code",
   "execution_count": 162,
   "id": "f7e09713-b30c-4b3b-b920-e11dd5b1e16a",
   "metadata": {},
   "outputs": [
    {
     "data": {
      "text/plain": [
       "[1, 1, 3, 4, 5, 9]"
      ]
     },
     "execution_count": 162,
     "metadata": {},
     "output_type": "execute_result"
    }
   ],
   "source": [
    "list4 = [3,1,4,1,5,9]\n",
    "sorted(list4)"
   ]
  },
  {
   "cell_type": "markdown",
   "id": "9712f0f9-f947-42a1-90f5-dfd284744016",
   "metadata": {
    "id": "bea983a3"
   },
   "source": [
    "---\n",
    "\n",
    "### Exercise 36:\n",
    "Write a Python script that takes a list of strings as input and returns the longest string.\n",
    "\n",
    "```python\n",
    "# Exercise 36\n",
    "```"
   ]
  },
  {
   "cell_type": "code",
   "execution_count": 163,
   "id": "23ae9021-351b-4255-abca-0df552258b43",
   "metadata": {},
   "outputs": [],
   "source": [
    "def longest_string(l):\n",
    "    \"\"\"This function gives the longest string in a given list of strings.\n",
    "    Input : A list of strings.\n",
    "    Output: A string with the longest length in the list\n",
    "    \"\"\"\n",
    "    return max([len(element) for element in l])"
   ]
  },
  {
   "cell_type": "code",
   "execution_count": 166,
   "id": "31033b13-5cdd-4d61-a68a-3a3c7460eae6",
   "metadata": {},
   "outputs": [
    {
     "name": "stdout",
     "output_type": "stream",
     "text": [
      "['apple', 'banana', 'apple', 'orange']\n"
     ]
    },
    {
     "data": {
      "text/plain": [
       "6"
      ]
     },
     "execution_count": 166,
     "metadata": {},
     "output_type": "execute_result"
    }
   ],
   "source": [
    "print(fruits)\n",
    "longest_string(fruits)"
   ]
  },
  {
   "cell_type": "markdown",
   "id": "1bcc86c4-f36e-4073-a31e-f0914519b343",
   "metadata": {
    "id": "bea983a3"
   },
   "source": [
    "---\n",
    "\n",
    "### Exercise 37:\n",
    "Check if all the elements in the list `[1, 2, 3, 4, 5]` are greater than 0 using the `all()` function.\n",
    "\n",
    "```python\n",
    "# Exercise 37\n",
    "```"
   ]
  },
  {
   "cell_type": "code",
   "execution_count": 180,
   "id": "2fd1a129-7b00-4e2d-82af-9b61d49e94df",
   "metadata": {},
   "outputs": [
    {
     "data": {
      "text/plain": [
       "True"
      ]
     },
     "execution_count": 180,
     "metadata": {},
     "output_type": "execute_result"
    }
   ],
   "source": [
    "list5 = [1,2,3,4,5]\n",
    "all(i>0 for i in list5)"
   ]
  },
  {
   "cell_type": "markdown",
   "id": "737780bf-9e66-405e-a3df-ee8e04eaccef",
   "metadata": {
    "id": "bea983a3"
   },
   "source": [
    "---\n",
    "\n",
    "### Exercise 38:\n",
    "Create a list of tuples where each tuple contains a number and its square for numbers from 1 to 5.\n",
    "\n",
    "```python\n",
    "# Exercise 38\n",
    "```"
   ]
  },
  {
   "cell_type": "code",
   "execution_count": 183,
   "id": "cc3620bf-db88-4079-9fae-0cffaa26b8fc",
   "metadata": {},
   "outputs": [
    {
     "data": {
      "text/plain": [
       "[(1, 1), (2, 4), (3, 9), (4, 16), (5, 25)]"
      ]
     },
     "execution_count": 183,
     "metadata": {},
     "output_type": "execute_result"
    }
   ],
   "source": [
    "square_tup = [(i,i**2) for i in range(1,6)]\n",
    "square_tup"
   ]
  },
  {
   "cell_type": "markdown",
   "id": "ed539c7b-754b-4f21-a6b3-f9c99c623ed5",
   "metadata": {
    "id": "bea983a3"
   },
   "source": [
    "---\n",
    "\n",
    "### Exercise 39:\n",
    "Write a Python script that takes a list of tuples and returns a list of the second elements from each tuple.\n",
    "\n",
    "```python\n",
    "# Exercise 39\n",
    "```"
   ]
  },
  {
   "cell_type": "code",
   "execution_count": 192,
   "id": "bdbc25bf-8ea6-4e28-b8b2-f72e62f603ef",
   "metadata": {},
   "outputs": [],
   "source": [
    "def second_element(l):\n",
    "    \"\"\"\n",
    "    This function gives a list containing the second element of each tuple of the given list.\n",
    "    Input : A list of tuple.\n",
    "    Ouptut : A list containing the second element of tuples in the given list.\n",
    "    \"\"\"\n",
    "    return [l[i][1] for i in range(0,len(l))]"
   ]
  },
  {
   "cell_type": "code",
   "execution_count": 194,
   "id": "4f2f48f3-d050-4a64-86a5-7ef57e301bbf",
   "metadata": {},
   "outputs": [
    {
     "data": {
      "text/plain": [
       "[2, 'b', 7]"
      ]
     },
     "execution_count": 194,
     "metadata": {},
     "output_type": "execute_result"
    }
   ],
   "source": [
    "second_element([(1,2,3),(\"a\",\"b\",\"c\"),(4,7)])"
   ]
  },
  {
   "cell_type": "markdown",
   "id": "ef784978-6dec-4d29-bb92-ece7aeb55f8d",
   "metadata": {
    "id": "bea983a3"
   },
   "source": [
    "---\n",
    "\n",
    "### Exercise 40:\n",
    "Write a Python script that flattens a list of lists into a single list.\n",
    "\n",
    "```python\n",
    "# Exercise 40\n",
    "```"
   ]
  },
  {
   "cell_type": "code",
   "execution_count": 218,
   "id": "25576990-8175-404c-a83f-89aedc219447",
   "metadata": {},
   "outputs": [],
   "source": [
    "def single_list(l):\n",
    "    \"\"\"\n",
    "    This function transform a list of list into a single list.\n",
    "    Input : A list of list.\n",
    "    Output : A list which elements are the elements of the sublists of the initial list.\n",
    "    \"\"\"\n",
    "    return [i for element in l for i in element]"
   ]
  },
  {
   "cell_type": "code",
   "execution_count": 219,
   "id": "d73a3ff1-26d3-4f83-9703-54b2b1bb1fa2",
   "metadata": {},
   "outputs": [
    {
     "data": {
      "text/plain": [
       "[1, 2, 7, 8, 12, 75]"
      ]
     },
     "execution_count": 219,
     "metadata": {},
     "output_type": "execute_result"
    }
   ],
   "source": [
    "single_list([[1,2],[7,8],[12,75]])"
   ]
  },
  {
   "cell_type": "markdown",
   "id": "6b5be891-295d-440b-a8a4-5aa1ee42deee",
   "metadata": {
    "id": "bea983a3"
   },
   "source": [
    "---\n",
    "\n",
    "### Exercise 41:\n",
    "Use the `enumerate()` function to iterate through the list `[\"apple\", \"banana\", \"cherry\"]` and print the index and value.\n",
    "\n",
    "```python\n",
    "# Exercise 41\n",
    "```"
   ]
  },
  {
   "cell_type": "code",
   "execution_count": 226,
   "id": "479d643a-c4f5-4a87-ad7f-5830c7b41c77",
   "metadata": {},
   "outputs": [
    {
     "name": "stdout",
     "output_type": "stream",
     "text": [
      "(0, 'apple')\n",
      "(1, 'banana')\n",
      "(2, 'apple')\n",
      "(3, 'orange')\n"
     ]
    }
   ],
   "source": [
    "fruits_enum = enumerate(fruits)\n",
    "for i in range(len(fruits)):\n",
    "    print(next(fruits_enum))"
   ]
  },
  {
   "cell_type": "markdown",
   "id": "392233ad-e439-4e92-ad2c-76a55a059e76",
   "metadata": {
    "id": "bea983a3"
   },
   "source": [
    "---\n",
    "\n",
    "### Exercise 42:\n",
    "Write a Python program that checks if a tuple is empty.\n",
    "\n",
    "```python\n",
    "# Exercise 42\n",
    "```"
   ]
  },
  {
   "cell_type": "code",
   "execution_count": 241,
   "id": "47f76fcd-e13f-4c26-bd5d-d7b4bcd2f80f",
   "metadata": {},
   "outputs": [],
   "source": [
    "def is_empty_tuple(t):\n",
    "    \"\"\"\n",
    "    This function check if a given tuple is empty.\n",
    "    Input : A Tuple.\n",
    "    Output : Return True if the tuple is given, Fals if not\n",
    "    \"\"\"\n",
    "    if not t:\n",
    "        return True\n",
    "    else :\n",
    "        return False"
   ]
  },
  {
   "cell_type": "code",
   "execution_count": 243,
   "id": "70ac456e-7784-4a1e-8161-8e62dfbd3fb1",
   "metadata": {},
   "outputs": [
    {
     "data": {
      "text/plain": [
       "True"
      ]
     },
     "execution_count": 243,
     "metadata": {},
     "output_type": "execute_result"
    }
   ],
   "source": [
    "is_empty_tuple(())"
   ]
  },
  {
   "cell_type": "markdown",
   "id": "82a712db-7462-414c-8110-bebe8c928fc4",
   "metadata": {
    "id": "bea983a3"
   },
   "source": [
    "---\n",
    "\n",
    "### Exercise 43:\n",
    "Create a list of even numbers between 1 and 20 using the `range()` function.\n",
    "\n",
    "```python\n",
    "# Exercise 43\n",
    "```"
   ]
  },
  {
   "cell_type": "code",
   "execution_count": 245,
   "id": "98b2375e-6f41-44d9-b3f7-1c2416a28886",
   "metadata": {},
   "outputs": [
    {
     "data": {
      "text/plain": [
       "[1, 2, 3, 4, 5, 6, 7, 8, 9, 10, 11, 12, 13, 14, 15, 16, 17, 18, 19, 20]"
      ]
     },
     "execution_count": 245,
     "metadata": {},
     "output_type": "execute_result"
    }
   ],
   "source": [
    "list(range(1,21))"
   ]
  },
  {
   "cell_type": "markdown",
   "id": "34bd0b63-f779-427d-8ff9-ba2d601ae063",
   "metadata": {
    "id": "bea983a3"
   },
   "source": [
    "---\n",
    "\n",
    "### Exercise 44:\n",
    "Write a Python script that takes a list of numbers as input and returns the list in reverse order.\n",
    "\n",
    "```python\n",
    "# Exercise 44\n",
    "```"
   ]
  },
  {
   "cell_type": "code",
   "execution_count": 246,
   "id": "6606acd1-4f04-4a7b-bb4c-e403e03dc89e",
   "metadata": {},
   "outputs": [],
   "source": [
    "def list_reverse(l):\n",
    "    \"\"\"\n",
    "    This function gives the reverse of the given list.\n",
    "    Input : A list.\n",
    "    Output : Reversed list.\n",
    "    \"\"\"\n",
    "    return l[::-1]"
   ]
  },
  {
   "cell_type": "code",
   "execution_count": 251,
   "id": "6328945a-284b-4388-80f3-3c08a51195ba",
   "metadata": {},
   "outputs": [
    {
     "data": {
      "text/plain": [
       "[21, 20, 19, 18, 17, 16, 15, 14, 13, 12, 11, 10, 9, 8, 7]"
      ]
     },
     "execution_count": 251,
     "metadata": {},
     "output_type": "execute_result"
    }
   ],
   "source": [
    "list_reverse(list(range(7,22)))"
   ]
  },
  {
   "cell_type": "markdown",
   "id": "4a8e0247-3666-435f-aa82-5fd2eccd761c",
   "metadata": {
    "id": "bea983a3"
   },
   "source": [
    "---\n",
    "\n",
    "### Exercise 45:\n",
    "Create a dictionary comprehension that maps numbers from 1 to 5 to their cubes.\n",
    "\n",
    "```python\n",
    "# Exercise 45\n",
    "```"
   ]
  },
  {
   "cell_type": "code",
   "execution_count": 253,
   "id": "be1d5244-846c-480b-bfd9-6692e403a6a4",
   "metadata": {},
   "outputs": [
    {
     "data": {
      "text/plain": [
       "{1: 1, 2: 8, 3: 27, 4: 64, 5: 125}"
      ]
     },
     "execution_count": 253,
     "metadata": {},
     "output_type": "execute_result"
    }
   ],
   "source": [
    "dict_cubes = {i:i**3 for i in range(1,6)}\n",
    "dict_cubes"
   ]
  },
  {
   "cell_type": "markdown",
   "id": "1a2f632b-4aa9-49fa-9f35-2297db3a2a28",
   "metadata": {
    "id": "bea983a3"
   },
   "source": [
    "---\n",
    "\n",
    "### Exercise 46:\n",
    "Write a Python program that creates a new list containing only the unique elements of the list `[1, 2, 2, 3, 4, 4, 5]`.\n",
    "\n",
    "```python\n",
    "# Exercise 46\n",
    "```"
   ]
  },
  {
   "cell_type": "code",
   "execution_count": 256,
   "id": "aa684903-98f0-475f-95fc-d91fb5eb07cd",
   "metadata": {},
   "outputs": [],
   "source": [
    "def unique_val_list(l):\n",
    "    \"\"\"\n",
    "    This function remove duplicated value in a given list.\n",
    "    Input : A list with duplicated value.\n",
    "    Ouptut : A new list which elements are unique value from the inputed list.\n",
    "    \"\"\"\n",
    "    return list(set(l))"
   ]
  },
  {
   "cell_type": "code",
   "execution_count": 255,
   "id": "8cfc2a43-a6b5-4d81-a7f0-31355bc80970",
   "metadata": {},
   "outputs": [
    {
     "data": {
      "text/plain": [
       "[1, 2, 3, 4, 5]"
      ]
     },
     "execution_count": 255,
     "metadata": {},
     "output_type": "execute_result"
    }
   ],
   "source": [
    "unique_val_list([1, 2, 2, 3, 4, 4, 5])"
   ]
  },
  {
   "cell_type": "markdown",
   "id": "e72ead6a-7bf1-40a1-8a6d-f048bcfc4bfd",
   "metadata": {
    "id": "bea983a3"
   },
   "source": [
    "---\n",
    "\n",
    "### Exercise 47:\n",
    "Write a Python script that takes a list of dictionaries and returns a list of the values for a given key.\n",
    "\n",
    "```python\n",
    "# Exercise 47\n",
    "```"
   ]
  },
  {
   "cell_type": "code",
   "execution_count": 267,
   "id": "d6c78648-61f4-4f20-9f27-57abf4ba0137",
   "metadata": {},
   "outputs": [],
   "source": [
    "def list_dict(l):\n",
    "    \"\"\"\n",
    "    This function create a new list which elements are the values of the dictionaries in the given list.\n",
    "    Input : A list of dictionnary\n",
    "    Output : A list of all the values\n",
    "    \"\"\"\n",
    "    return [element[key] for element in l for key in element]\n",
    "    \n",
    "    "
   ]
  },
  {
   "cell_type": "code",
   "execution_count": 269,
   "id": "f7cd7149-c826-4773-aad5-b78bed7016db",
   "metadata": {},
   "outputs": [
    {
     "data": {
      "text/plain": [
       "[2, 4, 3, 4]"
      ]
     },
     "execution_count": 269,
     "metadata": {},
     "output_type": "execute_result"
    }
   ],
   "source": [
    "list_dict([dict1,dict2])"
   ]
  },
  {
   "cell_type": "markdown",
   "id": "38093645-57e8-4c62-b935-844050d0b1b8",
   "metadata": {
    "id": "bea983a3"
   },
   "source": [
    "---\n",
    "\n",
    "### Exercise 48:\n",
    "Write a Python script that uses a generator to yield the Fibonacci sequence up to `n` terms.\n",
    "\n",
    "```python\n",
    "# Exercise 48\n",
    "```"
   ]
  },
  {
   "cell_type": "code",
   "execution_count": 279,
   "id": "97055f70-00e1-40dc-994b-d5e9809512f2",
   "metadata": {},
   "outputs": [],
   "source": [
    "def fibonacci(n):\n",
    "    \"\"\"\n",
    "    This fuction yield the Fibonacci sequence up to given n terms.\n",
    "    Input : An integer n which is the number of terms wanted.\n",
    "    Output : List of a Fibonacci sequence up to n terms.\n",
    "    \"\"\"\n",
    "    n1=1\n",
    "    n2=1\n",
    "    for i in range (n):\n",
    "        yield n1\n",
    "        n1 , n2 = n2,n1+n2"
   ]
  },
  {
   "cell_type": "code",
   "execution_count": 280,
   "id": "c5a5473b-5454-48a8-a17d-7f74b31271ff",
   "metadata": {},
   "outputs": [
    {
     "name": "stdout",
     "output_type": "stream",
     "text": [
      "1\n",
      "1\n",
      "2\n",
      "3\n",
      "5\n",
      "8\n",
      "13\n",
      "21\n",
      "34\n",
      "55\n",
      "89\n",
      "144\n",
      "233\n"
     ]
    }
   ],
   "source": [
    "fibo=fibonacci(13)\n",
    "for i in range (13):\n",
    "    print(next(fibo))"
   ]
  },
  {
   "cell_type": "markdown",
   "id": "cf158d40-9d68-4570-a95b-0df33c351e02",
   "metadata": {
    "id": "bea983a3"
   },
   "source": [
    "---\n",
    "\n",
    "### Exercise 49:1\n",
    "Write a Python script that takes a string and returns a list of all unique characters in the string.\n",
    "\n",
    "```python\n",
    "# Exercise 49\n",
    "```"
   ]
  },
  {
   "cell_type": "code",
   "execution_count": 284,
   "id": "3ce49ea4-a455-472a-b034-5e166f9a82ff",
   "metadata": {},
   "outputs": [],
   "source": [
    "def unique_val_str(s):\n",
    "    \"\"\"\n",
    "    This function returns a list of all unique characters in a given string.\n",
    "    Input : String\n",
    "    Output : A list of all unique characters in the string\n",
    "    \"\"\"\n",
    "    return list(set(s))"
   ]
  },
  {
   "cell_type": "code",
   "execution_count": 285,
   "id": "4ddb5d86-857b-4542-8081-96710cdf269f",
   "metadata": {},
   "outputs": [
    {
     "data": {
      "text/plain": [
       "['t', 'v', 'd', 'a', 's', 'o', 'i', 'n', 'r']"
      ]
     },
     "execution_count": 285,
     "metadata": {},
     "output_type": "execute_result"
    }
   ],
   "source": [
    "unique_val_list(\"andriantiavintsoa\")"
   ]
  },
  {
   "cell_type": "markdown",
   "id": "e46937e4-d844-4c39-95e4-a37d0fcc46d7",
   "metadata": {
    "id": "bea983a3"
   },
   "source": [
    "---\n",
    "\n",
    "### Exercise 50:\n",
    "Write a Python script that merges two sorted lists into a single sorted list.\n",
    "\n",
    "```python\n",
    "# Exercise 50\n",
    "```"
   ]
  },
  {
   "cell_type": "code",
   "execution_count": 301,
   "id": "18974087-e3b2-4b8c-8854-7cadc954bc9c",
   "metadata": {},
   "outputs": [],
   "source": [
    "def merge_list(L,l):\n",
    "    \"\"\"\n",
    "    This function merges two sorted lists into a single sorted list.\n",
    "    Input : Takes two sorted lists.\n",
    "    Output : A single sorted list\n",
    "    \"\"\"\n",
    "    liste = L+l\n",
    "    liste.sort()\n",
    "    return liste"
   ]
  },
  {
   "cell_type": "code",
   "execution_count": 303,
   "id": "ec14e42c-8ce7-4e95-8520-e6d5aa9b7834",
   "metadata": {},
   "outputs": [
    {
     "data": {
      "text/plain": [
       "[1, 2, 3, 4, 5, 6]"
      ]
     },
     "execution_count": 303,
     "metadata": {},
     "output_type": "execute_result"
    }
   ],
   "source": [
    "sorted_list = merge_list([4,5,6],[1,2,3])\n",
    "sorted_list"
   ]
  },
  {
   "cell_type": "markdown",
   "id": "59105d2b-001a-4665-a80f-e1691c633f14",
   "metadata": {
    "id": "bea983a3"
   },
   "source": [
    "---\n",
    "\n",
    "### Exercise 51:\n",
    "Use the\n",
    "\n",
    " `filter()` function to filter out odd numbers from the list `[1, 2, 3, 4, 5, 6]`.\n",
    "\n",
    "```python\n",
    "# Exercise 51\n",
    "```"
   ]
  },
  {
   "cell_type": "code",
   "execution_count": 309,
   "id": "72f65307-7625-43a4-827c-4c99d506ff7c",
   "metadata": {},
   "outputs": [
    {
     "data": {
      "text/plain": [
       "[1, 3, 5]"
      ]
     },
     "execution_count": 309,
     "metadata": {},
     "output_type": "execute_result"
    }
   ],
   "source": [
    "odd_numbers = list(filter(lambda x :x%2!=0,[1,2,3,4,5,6]))\n",
    "odd_numbers"
   ]
  },
  {
   "cell_type": "markdown",
   "id": "95015866-1b2e-484c-ae94-31955e94aef6",
   "metadata": {
    "id": "bea983a3"
   },
   "source": [
    "---\n",
    "\n",
    "### Exercise 52:\n",
    "Write a Python program that converts a list of tuples `[(1, 2), (3, 4), (5, 6)]` into a dictionary.\n",
    "\n",
    "```python\n",
    "# Exercise 52\n",
    "```"
   ]
  },
  {
   "cell_type": "code",
   "execution_count": 310,
   "id": "9175811d-ca9c-4ed3-9d8a-f7cb61fc3f34",
   "metadata": {},
   "outputs": [
    {
     "data": {
      "text/plain": [
       "{1: 2, 3: 4, 5: 6}"
      ]
     },
     "execution_count": 310,
     "metadata": {},
     "output_type": "execute_result"
    }
   ],
   "source": [
    "dict([(1, 2), (3, 4), (5, 6)])"
   ]
  },
  {
   "cell_type": "markdown",
   "id": "67d2b8c4-798a-487e-ace9-aa6fc1792571",
   "metadata": {
    "id": "bea983a3"
   },
   "source": [
    "---\n",
    "\n",
    "### Exercise 53:\n",
    "Write a Python script that takes two sets and returns their symmetric difference.\n",
    "\n",
    "```python\n",
    "# Exercise 53\n",
    "```"
   ]
  },
  {
   "cell_type": "code",
   "execution_count": 312,
   "id": "1557074b-6d8d-46d5-8786-e0ccd1895d4e",
   "metadata": {},
   "outputs": [],
   "source": [
    "def symmetric_diff(s1,s2):\n",
    "    return {i for i in s1 if i in s2}"
   ]
  },
  {
   "cell_type": "markdown",
   "id": "e4abc2e0-8276-4b5e-b5bd-ad500f6c57ed",
   "metadata": {
    "id": "bea983a3"
   },
   "source": [
    "---\n",
    "\n",
    "### Exercise 54:\n",
    "Write a Python program that finds the common elements in three lists `list1`, `list2`, and `list3`.\n",
    "\n",
    "```python\n",
    "# Exercise 54\n",
    "```"
   ]
  },
  {
   "cell_type": "code",
   "execution_count": 323,
   "id": "34c5fd2e-1b7a-43a1-845d-8ffc19e37a62",
   "metadata": {},
   "outputs": [],
   "source": [
    "def common_element_list(l1,l2,l3):\n",
    "    return [i for i in l1 if i in l2 and i in l3]"
   ]
  },
  {
   "cell_type": "code",
   "execution_count": 324,
   "id": "80ae21c3-0eb1-4bba-8f33-7e01ffcca857",
   "metadata": {},
   "outputs": [
    {
     "data": {
      "text/plain": [
       "[2]"
      ]
     },
     "execution_count": 324,
     "metadata": {},
     "output_type": "execute_result"
    }
   ],
   "source": [
    "common_element_list([1,2,3],[7,8,4,2],[2,1])"
   ]
  },
  {
   "cell_type": "markdown",
   "id": "7d05929f-515c-40e9-a04b-25c90e6181f7",
   "metadata": {
    "id": "bea983a3"
   },
   "source": [
    "---\n",
    "\n",
    "### Exercise 55:\n",
    "Write a Python script that returns the factorial of a number using recursion.\n",
    "\n",
    "```python\n",
    "# Exercise 55\n",
    "```"
   ]
  },
  {
   "cell_type": "code",
   "execution_count": 334,
   "id": "b7dbf590-178f-4981-802f-28e9020ac6cc",
   "metadata": {},
   "outputs": [],
   "source": [
    "def factorial(n):\n",
    "    if n==1:\n",
    "        return 1\n",
    "    else:\n",
    "        return n*factorial(n-1)"
   ]
  },
  {
   "cell_type": "code",
   "execution_count": 335,
   "id": "b7b02b04-75f9-4ad7-8798-07714985ce22",
   "metadata": {},
   "outputs": [
    {
     "data": {
      "text/plain": [
       "720"
      ]
     },
     "execution_count": 335,
     "metadata": {},
     "output_type": "execute_result"
    }
   ],
   "source": [
    "factorial(6)"
   ]
  },
  {
   "cell_type": "markdown",
   "id": "59628d25-129a-4d44-94b6-8c0f46025b84",
   "metadata": {
    "id": "bea983a3"
   },
   "source": [
    "---\n",
    "\n",
    "### Exercise 56:\n",
    "Write a Python program that removes all empty strings from the list `[\"apple\", \"\", \"banana\", \"\", \"cherry\"]`.\n",
    "\n",
    "```python\n",
    "# Exercise 56\n",
    "```"
   ]
  },
  {
   "cell_type": "code",
   "execution_count": 338,
   "id": "42302f21-6ec6-4108-b02d-a156981a2133",
   "metadata": {},
   "outputs": [
    {
     "name": "stdout",
     "output_type": "stream",
     "text": [
      "['apple', 'banana', 'cherry']\n"
     ]
    }
   ],
   "source": [
    "list6 = [\"apple\", \"\", \"banana\", \"\", \"cherry\"]\n",
    "for i in list6:\n",
    "    if not i:\n",
    "        index=list6.index(i)\n",
    "        list6.pop(index)\n",
    "print(list6)"
   ]
  },
  {
   "cell_type": "markdown",
   "id": "388396f9-990a-4706-86cc-e6efb34c2890",
   "metadata": {
    "id": "bea983a3"
   },
   "source": [
    "---\n",
    "\n",
    "### Exercise 57:\n",
    "Write a Python script that takes a dictionary and returns a new dictionary with the keys and values swapped.\n",
    "\n",
    "```python\n",
    "# Exercise 57\n",
    "```"
   ]
  },
  {
   "cell_type": "code",
   "execution_count": 341,
   "id": "5ca75404-0858-4af4-97e2-453d92b703e9",
   "metadata": {},
   "outputs": [],
   "source": [
    "def dict_swap(d):\n",
    "    swapped={}\n",
    "    for element in d:\n",
    "        swapped.update({d[element]:element})\n",
    "    return swapped"
   ]
  },
  {
   "cell_type": "code",
   "execution_count": 342,
   "id": "ed3cc58e-87f5-4480-a5e3-88a09fda8eef",
   "metadata": {},
   "outputs": [
    {
     "data": {
      "text/plain": [
       "{2: 'a', 4: 'b'}"
      ]
     },
     "execution_count": 342,
     "metadata": {},
     "output_type": "execute_result"
    }
   ],
   "source": [
    "dict_swap(dict1)"
   ]
  },
  {
   "cell_type": "markdown",
   "id": "8ce0e223-4628-4efb-bfd2-b6268ae071cd",
   "metadata": {
    "id": "bea983a3"
   },
   "source": [
    "---\n",
    "\n",
    "### Exercise 58:\n",
    "Write a Python script that takes a list of integers and returns a new list with only the even numbers.\n",
    "\n",
    "```python\n",
    "# Exercise 58\n",
    "```"
   ]
  },
  {
   "cell_type": "code",
   "execution_count": 343,
   "id": "b50b13e3-bc08-40d7-80c6-5a20af5a5801",
   "metadata": {},
   "outputs": [],
   "source": [
    "def even_list(l):\n",
    "    return [n for n in l if n%2==0]"
   ]
  },
  {
   "cell_type": "code",
   "execution_count": 346,
   "id": "86d0551f-b26a-4107-b974-d2c94c90c4c1",
   "metadata": {},
   "outputs": [
    {
     "data": {
      "text/plain": [
       "[4, 2, 6, 522]"
      ]
     },
     "execution_count": 346,
     "metadata": {},
     "output_type": "execute_result"
    }
   ],
   "source": [
    "even_list([1,55,4,2,6,522])"
   ]
  },
  {
   "cell_type": "markdown",
   "id": "242fedfb-38bb-4fa9-b369-40dbf6a70b1a",
   "metadata": {
    "id": "bea983a3"
   },
   "source": [
    "---\n",
    "\n",
    "### Exercise 59:\n",
    "Write a Python script that takes a list of tuples and returns a list of the first elements of each tuple.\n",
    "\n",
    "```python\n",
    "# Exercise 59\n",
    "```"
   ]
  },
  {
   "cell_type": "code",
   "execution_count": 349,
   "id": "4e7a80f6-162f-4e5d-9b25-f912e5672e08",
   "metadata": {},
   "outputs": [],
   "source": [
    "def first_element_tuple(l):\n",
    "    return [element[0] for element in l]"
   ]
  },
  {
   "cell_type": "code",
   "execution_count": 350,
   "id": "0ff3062b-4a06-4a94-915f-9c3530e6a2e4",
   "metadata": {},
   "outputs": [
    {
     "data": {
      "text/plain": [
       "[8, 147, 7]"
      ]
     },
     "execution_count": 350,
     "metadata": {},
     "output_type": "execute_result"
    }
   ],
   "source": [
    "first_element_tuple([(8,5,1,32),(147,7,42),(7,51,5,415)])"
   ]
  },
  {
   "cell_type": "markdown",
   "id": "99da6209-5ec7-4e1c-8de4-835406a0aef3",
   "metadata": {
    "id": "bea983a3"
   },
   "source": [
    "---\n",
    "\n",
    "### Exercise 60:\n",
    "Write a Python program that removes duplicates from a list without changing the order of elements.\n",
    "\n",
    "```python\n",
    "# Exercise 60\n",
    "```"
   ]
  },
  {
   "cell_type": "code",
   "execution_count": 363,
   "id": "3e1b8090-0639-4410-b936-8578e1f69e2c",
   "metadata": {},
   "outputs": [
    {
     "data": {
      "text/plain": [
       "[2, 3, 9, 7, 6, 4]"
      ]
     },
     "execution_count": 363,
     "metadata": {},
     "output_type": "execute_result"
    }
   ],
   "source": [
    "list4 = [2,3,9,7,3,2,6,4,7]\n",
    "new_list=[]\n",
    "for element in list4:\n",
    "    if element not in new_list:\n",
    "        new_list.append(element)\n",
    "new_list"
   ]
  },
  {
   "cell_type": "markdown",
   "id": "750e9dd1-bf44-412d-b85b-37c0169f21f2",
   "metadata": {
    "id": "bea983a3"
   },
   "source": [
    "---\n",
    "\n",
    "### Exercise 61:\n",
    "Use the `map()` script to convert a list of strings to a list of their lengths.\n",
    "\n",
    "```python\n",
    "# Exercise 61\n",
    "```"
   ]
  },
  {
   "cell_type": "markdown",
   "id": "bea983a3",
   "metadata": {
    "id": "bea983a3"
   },
   "source": [
    "---\n",
    "\n",
    "### Exercise 62:\n",
    "Write a Python program that calculates the average of a list of numbers.\n",
    "\n",
    "```python\n",
    "# Exercise 62\n",
    "```\n",
    "\n",
    "---\n",
    "\n",
    "### Exercise 63:\n",
    "Write a Python script that generates a list of the first `n` Fibonacci numbers.\n",
    "\n",
    "```python\n",
    "# Exercise 63\n",
    "```\n",
    "\n",
    "---\n",
    "\n",
    "### Exercise 64:\n",
    "Write a Python program that counts how many times each element appears in the list `[\"apple\", \"banana\", \"apple\", \"cherry\"]`.\n",
    "\n",
    "```python\n",
    "# Exercise 64\n",
    "```\n",
    "\n",
    "---\n",
    "\n",
    "### Exercise 65:\n",
    "Write a Python program that removes all occurrences of a specific value from a list.\n",
    "\n",
    "```python\n",
    "# Exercise 65\n",
    "```\n",
    "\n",
    "---\n",
    "\n",
    "### Exercise 66:\n",
    "Write a Python script that takes a list of strings and returns a list of the strings that start with a vowel.\n",
    "\n",
    "```python\n",
    "# Exercise 66\n",
    "```\n",
    "\n",
    "---\n",
    "\n",
    "### Exercise 67:\n",
    "Write a Python program that finds the intersection of two sets `set1` and `set2`.\n",
    "\n",
    "```python\n",
    "# Exercise 67\n",
    "```\n",
    "\n",
    "---\n",
    "\n",
    "### Exercise 68:\n",
    "Write a Python script that flattens a nested list.\n",
    "\n",
    "```python\n",
    "# Exercise 68\n",
    "```\n",
    "\n",
    "---\n",
    "\n",
    "### Exercise 69:\n",
    "Write a Python program that checks if all the elements in a list are unique.\n",
    "\n",
    "```python\n",
    "# Exercise 69\n",
    "```\n",
    "\n",
    "---\n",
    "\n",
    "### Exercise 70:\n",
    "Use the `reduce()` function from the `functools` module to multiply all elements in a list.\n",
    "\n",
    "```python\n",
    "# Exercise 70\n",
    "```\n",
    "\n",
    "---\n",
    "\n",
    "### Exercise 71:\n",
    "Write a Python script that takes a list of strings and returns a dictionary where keys are strings and values are their lengths.\n",
    "\n",
    "```python\n",
    "# Exercise 71\n",
    "```\n",
    "\n",
    "---\n",
    "\n",
    "### Exercise 72:\n",
    "Write a Python program that counts the number of vowels in a string.\n",
    "\n",
    "```python\n",
    "# Exercise 72\n",
    "```\n",
    "\n",
    "---\n",
    "\n",
    "### Exercise 73:\n",
    "Create a list of tuples where each tuple contains a number from 1 to 5 and its factorial.\n",
    "\n",
    "```python\n",
    "# Exercise 73\n",
    "```\n",
    "\n",
    "---\n",
    "\n",
    "### Exercise 74:\n",
    "Write a Python program that converts a list of dictionaries into a single dictionary by merging them.\n",
    "\n",
    "```python\n",
    "# Exercise 74\n",
    "```\n",
    "\n",
    "---\n",
    "\n",
    "### Exercise 75:\n",
    "Write a Python script that checks if a set is a subset of another set.\n",
    "\n",
    "```python\n",
    "# Exercise 75\n",
    "```\n",
    "\n",
    "---\n",
    "\n",
    "### Exercise 76:\n",
    "Write a Python program that sorts a list of tuples based on the second element in each tuple.\n",
    "\n",
    "```python\n",
    "# Exercise 76\n",
    "```\n",
    "\n",
    "---\n",
    "\n",
    "### Exercise 77:\n",
    "Write a Python script that takes a list of integers and returns a new list with only the positive integers.\n",
    "\n",
    "```python\n",
    "# Exercise 77\n",
    "```\n",
    "\n",
    "---\n",
    "\n",
    "### Exercise 78:\n",
    "Write a Python script that takes two sets and returns their union.\n",
    "\n",
    "```python\n",
    "# Exercise 78\n",
    "```\n",
    "\n",
    "---\n",
    "\n",
    "### Exercise 79:\n",
    "Write a Python script that takes a list of numbers and returns the product of all the numbers.\n",
    "\n",
    "```python\n",
    "# Exercise 79\n",
    "```\n",
    "\n",
    "---\n",
    "\n",
    "### Exercise 80:\n",
    "Write a Python program that converts a list of characters into a string.\n",
    "\n",
    "```python\n",
    "# Exercise 80\n",
    "```\n",
    "\n",
    "---\n",
    "\n",
    "### Exercise 81:\n",
    "Write a Python program that finds the second largest number in a list of integers.\n",
    "\n",
    "```python\n",
    "# Exercise 81\n",
    "```\n",
    "\n",
    "---\n",
    "\n",
    "### Exercise 82:\n",
    "Write a Python script that takes a dictionary and returns a list of its keys in sorted order.\n",
    "\n",
    "```python\n",
    "# Exercise 82\n",
    "```\n",
    "\n",
    "---\n",
    "\n",
    "### Exercise 83:\n",
    "Write a Python program that finds the most common element in a list.\n",
    "\n",
    "```python\n",
    "# Exercise 83\n",
    "```\n",
    "\n",
    "---\n",
    "\n",
    "### Exercise 84:\n",
    "Write a Python script that takes a list of tuples and returns a list of the tuples sorted by the first element.\n",
    "\n",
    "```python\n",
    "# Exercise 84\n",
    "```\n",
    "\n",
    "---\n",
    "\n",
    "### Exercise 85:\n",
    "Write a Python program that removes duplicates from a list of dictionaries.\n",
    "\n",
    "```python\n",
    "# Exercise 85\n",
    "```\n",
    "\n",
    "---\n",
    "\n",
    "### Exercise 86:\n",
    "Write a Python script that takes a list of numbers and returns the minimum and maximum numbers in the list.\n",
    "\n",
    "```python\n",
    "# Exercise 86\n",
    "```\n",
    "\n",
    "---\n",
    "\n",
    "### Exercise 87:\n",
    "Write a Python program that creates a list of tuples from two lists.\n",
    "\n",
    "```python\n",
    "# Exercise 87\n",
    "```\n",
    "\n",
    "---\n",
    "\n",
    "### Exercise 88:\n",
    "Write a Python script that takes a list of strings and returns a list of the strings in reverse order.\n",
    "\n",
    "```python\n",
    "# Exercise 88\n",
    "```\n",
    "\n",
    "---\n",
    "\n",
    "### Exercise 89:\n",
    "Write a Python script that takes a list of integers and returns the sum of all odd numbers.\n",
    "\n",
    "```python\n",
    "# Exercise 89\n",
    "```\n",
    "\n",
    "---\n",
    "\n",
    "### Exercise 90:\n",
    "Write a Python program that checks if a string is a palindrome.\n",
    "\n",
    "```python\n",
    "# Exercise 90\n",
    "```\n",
    "\n",
    "---\n",
    "\n",
    "### Exercise 91:\n",
    "Write a Python program that finds the median of a list of numbers.\n",
    "\n",
    "```python\n",
    "# Exercise 91\n",
    "```\n",
    "\n",
    "---\n",
    "\n",
    "### Exercise 92:\n",
    "Write a Python script that takes a list of dictionaries and returns a dictionary with the total value for each key.\n",
    "\n",
    "```python\n",
    "# Exercise 92\n",
    "```\n",
    "\n",
    "---\n",
    "\n",
    "### Exercise 93:\n",
    "Write a Python program that calculates the mode of a list of numbers.\n",
    "\n",
    "```python\n",
    "# Exercise 93\n",
    "```\n",
    "\n",
    "---\n",
    "\n",
    "### Exercise 94:\n",
    "Write a Python script that takes a list of numbers and returns the sum of the squares of all the numbers.\n",
    "\n",
    "```python\n",
    "# Exercise 94\n",
    "```\n",
    "\n",
    "---\n",
    "\n",
    "### Exercise 95:\n",
    "Write a Python program that creates a list of tuples, where each tuple contains a number and its cube for numbers from 1 to 5.\n",
    "\n",
    "```python\n",
    "# Exercise 95\n",
    "```\n",
    "\n",
    "---\n",
    "\n",
    "### Exercise 96:\n",
    "Write a Python script that returns a list of all prime numbers up to `n`.\n",
    "\n",
    "```python\n",
    "# Exercise 96\n",
    "```\n",
    "\n",
    "---\n",
    "\n",
    "### Exercise 97:\n",
    "Write a Python program that finds the common keys between two dictionaries.\n",
    "\n",
    "```python\n",
    "# Exercise 97\n",
    "```\n",
    "\n",
    "---\n",
    "\n",
    "### Exercise 98:\n",
    "Write a Python script that takes a list of strings and returns a list of the strings that contain more than 5 characters.\n",
    "\n",
    "```python\n",
    "# Exercise 98\n",
    "```\n",
    "\n",
    "---\n",
    "\n",
    "### Exercise 99:\n",
    "Write a Python program that converts a list of strings into a list of tuples, where each tuple contains the string and its length.\n",
    "\n",
    "```python\n",
    "# Exercise 99\n",
    "```\n",
    "\n",
    "---\n",
    "\n",
    "### Exercise 100:\n",
    "Write a Python script that takes a list of dictionaries and returns a new dictionary by summing the values of each key across all dictionaries.\n",
    "\n",
    "```python\n",
    "# Exercise 100\n",
    "```\n",
    "\n",
    "---"
   ]
  },
  {
   "cell_type": "code",
   "execution_count": null,
   "id": "a1e8def7-c75d-4fa9-ad02-76a75c5a43d6",
   "metadata": {},
   "outputs": [],
   "source": []
  },
  {
   "cell_type": "code",
   "execution_count": null,
   "id": "5b5df9b0-851c-4344-af14-719af299eb5b",
   "metadata": {},
   "outputs": [],
   "source": []
  },
  {
   "cell_type": "code",
   "execution_count": null,
   "id": "e2f41e67-ebf0-4824-ad30-f7ce0c256637",
   "metadata": {},
   "outputs": [],
   "source": []
  },
  {
   "cell_type": "code",
   "execution_count": null,
   "id": "9d0dc500-3ecb-42e7-beae-4930e6849884",
   "metadata": {},
   "outputs": [],
   "source": []
  },
  {
   "cell_type": "code",
   "execution_count": null,
   "id": "xnPP2CcktHTa",
   "metadata": {
    "id": "xnPP2CcktHTa"
   },
   "outputs": [],
   "source": []
  }
 ],
 "metadata": {
  "colab": {
   "provenance": []
  },
  "kernelspec": {
   "display_name": "Python 3 (ipykernel)",
   "language": "python",
   "name": "python3"
  },
  "language_info": {
   "codemirror_mode": {
    "name": "ipython",
    "version": 3
   },
   "file_extension": ".py",
   "mimetype": "text/x-python",
   "name": "python",
   "nbconvert_exporter": "python",
   "pygments_lexer": "ipython3",
   "version": "3.13.7"
  }
 },
 "nbformat": 4,
 "nbformat_minor": 5
}
